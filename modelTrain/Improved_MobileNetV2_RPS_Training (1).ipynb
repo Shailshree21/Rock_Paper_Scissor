{
 "cells": [
  {
   "cell_type": "markdown",
   "id": "9390785d",
   "metadata": {},
   "source": [
    "# 🧠 Rock Paper Scissors Classification with MobileNetV2\n",
    "\n",
    "This notebook demonstrates training a transfer learning model using MobileNetV2 on the Rock-Paper-Scissors dataset from Hugging Face. It includes data preprocessing, augmentation, class balancing, and fine-tuning to avoid overfitting."
   ]
  },
  {
   "cell_type": "markdown",
   "id": "434ba7fb",
   "metadata": {},
   "source": [
    "## 1. Install and Import Libraries"
   ]
  },
  {
   "cell_type": "code",
   "execution_count": 11,
   "id": "215539d4",
   "metadata": {},
   "outputs": [],
   "source": [
    "import os\n",
    "import numpy as np\n",
    "import matplotlib.pyplot as plt\n",
    "import tensorflow as tf\n",
    "import seaborn as sns\n",
    "from PIL import Image\n",
    "from datasets import load_dataset\n",
    "from sklearn.utils.class_weight import compute_class_weight\n",
    "from tensorflow.keras.applications import MobileNetV2\n",
    "from tensorflow.keras.models import Model\n",
    "from tensorflow.keras.layers import GlobalAveragePooling2D, Dense, Dropout\n",
    "from tensorflow.keras.preprocessing.image import ImageDataGenerator\n",
    "from tensorflow.keras.callbacks import EarlyStopping, ModelCheckpoint, ReduceLROnPlateau\n"
   ]
  },
  {
   "cell_type": "markdown",
   "id": "f41bd3b4",
   "metadata": {},
   "source": [
    "## 2. Extract Dataset from Hugging Face"
   ]
  },
  {
   "cell_type": "code",
   "execution_count": null,
   "id": "54593eda",
   "metadata": {},
   "outputs": [],
   "source": [
    "\n",
    "dataset = load_dataset(\"Javtor/rock-paper-scissors\")\n",
    "label_names = dataset['train'].features['label'].names\n",
    "\n",
    "base_dir = \"dataset\"\n",
    "splits = ['train', 'test']\n",
    "\n",
    "def save_images_to_folder(split_name):\n",
    "    split_dataset = dataset[split_name]\n",
    "    for idx, sample in enumerate(split_dataset):\n",
    "        label = label_names[sample['label']]\n",
    "        image = sample['image']\n",
    "        if image.mode == 'RGBA':\n",
    "            image = image.convert('RGB')\n",
    "        save_dir = os.path.join(base_dir, split_name, label)\n",
    "        os.makedirs(save_dir, exist_ok=True)\n",
    "        image_path = os.path.join(save_dir, f\"{split_name}_{label}_{idx}.jpg\")\n",
    "        image.save(image_path)\n",
    "\n",
    "for split in splits:\n",
    "    save_images_to_folder(split)\n",
    "\n",
    "print(\"✅ Dataset saved in dataset/train and dataset/test.\")\n"
   ]
  },
  {
   "cell_type": "markdown",
   "id": "cc8d4c78",
   "metadata": {},
   "source": [
    "## 3. Load Dataset with Augmentation"
   ]
  },
  {
   "cell_type": "code",
   "execution_count": 2,
   "id": "6c656268",
   "metadata": {},
   "outputs": [
    {
     "name": "stdout",
     "output_type": "stream",
     "text": [
      "Found 2016 images belonging to 3 classes.\n",
      "Found 504 images belonging to 3 classes.\n",
      "Found 372 images belonging to 3 classes.\n"
     ]
    }
   ],
   "source": [
    "\n",
    "train_dir = 'dataset/train'\n",
    "test_dir = 'dataset/test'\n",
    "\n",
    "train_datagen = ImageDataGenerator(\n",
    "    rescale=1./255,\n",
    "    rotation_range=30,\n",
    "    zoom_range=0.3,\n",
    "    horizontal_flip=True,\n",
    "    width_shift_range=0.2,\n",
    "    height_shift_range=0.2,\n",
    "    shear_range=0.2,\n",
    "    brightness_range=[0.7, 1.3],\n",
    "    validation_split=0.2\n",
    ")\n",
    "\n",
    "test_datagen = ImageDataGenerator(rescale=1./255)\n",
    "\n",
    "train_gen = train_datagen.flow_from_directory(\n",
    "    train_dir, target_size=(224, 224), batch_size=32,\n",
    "    class_mode='categorical', subset='training'\n",
    ")\n",
    "\n",
    "val_gen = train_datagen.flow_from_directory(\n",
    "    train_dir, target_size=(224, 224), batch_size=32,\n",
    "    class_mode='categorical', subset='validation'\n",
    ")\n",
    "\n",
    "test_gen = test_datagen.flow_from_directory(\n",
    "    test_dir, target_size=(224, 224), batch_size=32, class_mode='categorical'\n",
    ")\n"
   ]
  },
  {
   "cell_type": "markdown",
   "id": "37bba149",
   "metadata": {},
   "source": [
    "## 4. Compute Class Weights"
   ]
  },
  {
   "cell_type": "code",
   "execution_count": 3,
   "id": "f0d278c1",
   "metadata": {},
   "outputs": [],
   "source": [
    "\n",
    "y_train = train_gen.classes\n",
    "weights = compute_class_weight(class_weight='balanced', classes=np.unique(y_train), y=y_train)\n",
    "class_weights = dict(enumerate(weights))\n"
   ]
  },
  {
   "cell_type": "markdown",
   "id": "15fc18a1",
   "metadata": {},
   "source": [
    "## 5. Define Model Architecture (Transfer Learning with Dropout)"
   ]
  },
  {
   "cell_type": "code",
   "execution_count": 4,
   "id": "64afbb0d",
   "metadata": {},
   "outputs": [],
   "source": [
    "\n",
    "base_model = MobileNetV2(weights='imagenet', include_top=False, input_shape=(224, 224, 3))\n",
    "base_model.trainable = False\n",
    "\n",
    "x = base_model.output\n",
    "x = GlobalAveragePooling2D()(x)\n",
    "x = Dense(256, activation='relu')(x)\n",
    "x = Dropout(0.5)(x)\n",
    "x = Dense(128, activation='relu')(x)\n",
    "x = Dropout(0.3)(x)\n",
    "output = Dense(train_gen.num_classes, activation='softmax')(x)\n",
    "\n",
    "model = Model(inputs=base_model.input, outputs=output)\n"
   ]
  },
  {
   "cell_type": "markdown",
   "id": "b7c89478",
   "metadata": {},
   "source": [
    "## 6. Train Top Layers"
   ]
  },
  {
   "cell_type": "code",
   "execution_count": 5,
   "id": "0eb6e754",
   "metadata": {},
   "outputs": [
    {
     "name": "stderr",
     "output_type": "stream",
     "text": [
      "c:\\Users\\shailshree\\Desktop\\Academics\\3rd year\\computervision\\coursework\\app\\rock_paper_scissor_game_env\\Lib\\site-packages\\keras\\src\\trainers\\data_adapters\\py_dataset_adapter.py:121: UserWarning: Your `PyDataset` class should call `super().__init__(**kwargs)` in its constructor. `**kwargs` can include `workers`, `use_multiprocessing`, `max_queue_size`. Do not pass these arguments to `fit()`, as they will be ignored.\n",
      "  self._warn_if_super_not_called()\n"
     ]
    },
    {
     "name": "stdout",
     "output_type": "stream",
     "text": [
      "Epoch 1/10\n",
      "\u001b[1m63/63\u001b[0m \u001b[32m━━━━━━━━━━━━━━━━━━━━\u001b[0m\u001b[37m\u001b[0m \u001b[1m0s\u001b[0m 573ms/step - accuracy: 0.7279 - loss: 0.5993"
     ]
    },
    {
     "name": "stderr",
     "output_type": "stream",
     "text": [
      "WARNING:absl:You are saving your model as an HDF5 file via `model.save()` or `keras.saving.save_model(model)`. This file format is considered legacy. We recommend using instead the native Keras format, e.g. `model.save('my_model.keras')` or `keras.saving.save_model(model, 'my_model.keras')`. \n"
     ]
    },
    {
     "name": "stdout",
     "output_type": "stream",
     "text": [
      "\u001b[1m63/63\u001b[0m \u001b[32m━━━━━━━━━━━━━━━━━━━━\u001b[0m\u001b[37m\u001b[0m \u001b[1m52s\u001b[0m 757ms/step - accuracy: 0.7299 - loss: 0.5954 - val_accuracy: 0.9067 - val_loss: 0.2967 - learning_rate: 0.0010\n",
      "Epoch 2/10\n",
      "\u001b[1m63/63\u001b[0m \u001b[32m━━━━━━━━━━━━━━━━━━━━\u001b[0m\u001b[37m\u001b[0m \u001b[1m0s\u001b[0m 588ms/step - accuracy: 0.9422 - loss: 0.1361"
     ]
    },
    {
     "name": "stderr",
     "output_type": "stream",
     "text": [
      "WARNING:absl:You are saving your model as an HDF5 file via `model.save()` or `keras.saving.save_model(model)`. This file format is considered legacy. We recommend using instead the native Keras format, e.g. `model.save('my_model.keras')` or `keras.saving.save_model(model, 'my_model.keras')`. \n"
     ]
    },
    {
     "name": "stdout",
     "output_type": "stream",
     "text": [
      "\u001b[1m63/63\u001b[0m \u001b[32m━━━━━━━━━━━━━━━━━━━━\u001b[0m\u001b[37m\u001b[0m \u001b[1m47s\u001b[0m 749ms/step - accuracy: 0.9423 - loss: 0.1362 - val_accuracy: 0.9345 - val_loss: 0.1878 - learning_rate: 0.0010\n",
      "Epoch 3/10\n",
      "\u001b[1m63/63\u001b[0m \u001b[32m━━━━━━━━━━━━━━━━━━━━\u001b[0m\u001b[37m\u001b[0m \u001b[1m50s\u001b[0m 788ms/step - accuracy: 0.9624 - loss: 0.1031 - val_accuracy: 0.8929 - val_loss: 0.3119 - learning_rate: 0.0010\n",
      "Epoch 4/10\n",
      "\u001b[1m63/63\u001b[0m \u001b[32m━━━━━━━━━━━━━━━━━━━━\u001b[0m\u001b[37m\u001b[0m \u001b[1m48s\u001b[0m 756ms/step - accuracy: 0.9808 - loss: 0.0624 - val_accuracy: 0.8869 - val_loss: 0.4487 - learning_rate: 5.0000e-04\n"
     ]
    }
   ],
   "source": [
    "\n",
    "callbacks = [\n",
    "    EarlyStopping(monitor='val_loss', patience=2, restore_best_weights=True),\n",
    "    ModelCheckpoint('best_model.h5', monitor='val_accuracy', save_best_only=True),\n",
    "    ReduceLROnPlateau(monitor='val_loss', factor=0.5, patience=1, min_lr=1e-6)\n",
    "]\n",
    "\n",
    "model.compile(optimizer=tf.keras.optimizers.Adam(learning_rate=1e-3),\n",
    "              loss='categorical_crossentropy',\n",
    "              metrics=['accuracy'])\n",
    "\n",
    "history = model.fit(\n",
    "    train_gen,\n",
    "    validation_data=val_gen,\n",
    "    epochs=10,\n",
    "    class_weight=class_weights,\n",
    "    callbacks=callbacks\n",
    ")\n"
   ]
  },
  {
   "cell_type": "markdown",
   "id": "234b18e3",
   "metadata": {},
   "source": [
    "## 7. Fine-Tune Last 20 Layers"
   ]
  },
  {
   "cell_type": "code",
   "execution_count": 6,
   "id": "ef4c85ab",
   "metadata": {},
   "outputs": [
    {
     "name": "stdout",
     "output_type": "stream",
     "text": [
      "Epoch 1/5\n",
      "\u001b[1m63/63\u001b[0m \u001b[32m━━━━━━━━━━━━━━━━━━━━\u001b[0m\u001b[37m\u001b[0m \u001b[1m0s\u001b[0m 643ms/step - accuracy: 0.8863 - loss: 0.3017"
     ]
    },
    {
     "name": "stderr",
     "output_type": "stream",
     "text": [
      "WARNING:absl:You are saving your model as an HDF5 file via `model.save()` or `keras.saving.save_model(model)`. This file format is considered legacy. We recommend using instead the native Keras format, e.g. `model.save('my_model.keras')` or `keras.saving.save_model(model, 'my_model.keras')`. \n"
     ]
    },
    {
     "name": "stdout",
     "output_type": "stream",
     "text": [
      "\u001b[1m63/63\u001b[0m \u001b[32m━━━━━━━━━━━━━━━━━━━━\u001b[0m\u001b[37m\u001b[0m \u001b[1m58s\u001b[0m 824ms/step - accuracy: 0.8868 - loss: 0.3003 - val_accuracy: 0.9405 - val_loss: 0.2225 - learning_rate: 1.0000e-05\n",
      "Epoch 2/5\n",
      "\u001b[1m63/63\u001b[0m \u001b[32m━━━━━━━━━━━━━━━━━━━━\u001b[0m\u001b[37m\u001b[0m \u001b[1m50s\u001b[0m 790ms/step - accuracy: 0.9674 - loss: 0.1045 - val_accuracy: 0.9325 - val_loss: 0.2217 - learning_rate: 1.0000e-05\n",
      "Epoch 3/5\n",
      "\u001b[1m63/63\u001b[0m \u001b[32m━━━━━━━━━━━━━━━━━━━━\u001b[0m\u001b[37m\u001b[0m \u001b[1m49s\u001b[0m 784ms/step - accuracy: 0.9623 - loss: 0.0979 - val_accuracy: 0.9206 - val_loss: 0.2584 - learning_rate: 1.0000e-05\n",
      "Epoch 4/5\n",
      "\u001b[1m63/63\u001b[0m \u001b[32m━━━━━━━━━━━━━━━━━━━━\u001b[0m\u001b[37m\u001b[0m \u001b[1m49s\u001b[0m 784ms/step - accuracy: 0.9690 - loss: 0.0830 - val_accuracy: 0.9325 - val_loss: 0.2387 - learning_rate: 5.0000e-06\n"
     ]
    }
   ],
   "source": [
    "\n",
    "base_model.trainable = True\n",
    "for layer in base_model.layers[:-20]:\n",
    "    layer.trainable = False\n",
    "\n",
    "model.compile(optimizer=tf.keras.optimizers.Adam(learning_rate=1e-5),\n",
    "              loss='categorical_crossentropy',\n",
    "              metrics=['accuracy'])\n",
    "\n",
    "fine_tune_history = model.fit(\n",
    "    train_gen,\n",
    "    validation_data=val_gen,\n",
    "    epochs=5,\n",
    "    class_weight=class_weights,\n",
    "    callbacks=callbacks\n",
    ")\n"
   ]
  },
  {
   "cell_type": "markdown",
   "id": "2c0b15cc",
   "metadata": {},
   "source": [
    "## 8. Plot Accuracy and Loss (Smoothed)"
   ]
  },
  {
   "cell_type": "code",
   "execution_count": 7,
   "id": "e4f88cb2",
   "metadata": {},
   "outputs": [
    {
     "data": {
      "image/png": "[encoded data removed]",
      "text/plain": [
       "<Figure size 1200x500 with 2 Axes>"
      ]
     },
     "metadata": {},
     "output_type": "display_data"
    }
   ],
   "source": [
    "\n",
    "def smooth_curve(points, factor=0.8):\n",
    "    smoothed = []\n",
    "    for point in points:\n",
    "        if smoothed:\n",
    "            smoothed.append(smoothed[-1] * factor + point * (1 - factor))\n",
    "        else:\n",
    "            smoothed.append(point)\n",
    "    return smoothed\n",
    "\n",
    "def combine_history(h1, h2):\n",
    "    combined = {}\n",
    "    for k in h1.history:\n",
    "        combined[k] = h1.history[k] + h2.history.get(k, [])\n",
    "    return combined\n",
    "\n",
    "full_history = combine_history(history, fine_tune_history)\n",
    "\n",
    "smooth_acc = smooth_curve(full_history['accuracy'])\n",
    "smooth_val_acc = smooth_curve(full_history['val_accuracy'])\n",
    "smooth_loss = smooth_curve(full_history['loss'])\n",
    "smooth_val_loss = smooth_curve(full_history['val_loss'])\n",
    "\n",
    "plt.figure(figsize=(12, 5))\n",
    "plt.subplot(1, 2, 1)\n",
    "plt.plot(smooth_acc, label='Smoothed Training Accuracy')\n",
    "plt.plot(smooth_val_acc, label='Smoothed Validation Accuracy')\n",
    "plt.title('Model Accuracy')\n",
    "plt.xlabel('Epoch')\n",
    "plt.ylabel('Accuracy')\n",
    "plt.legend()\n",
    "\n",
    "plt.subplot(1, 2, 2)\n",
    "plt.plot(smooth_loss, label='Smoothed Training Loss')\n",
    "plt.plot(smooth_val_loss, label='Smoothed Validation Loss')\n",
    "plt.title('Model Loss')\n",
    "plt.xlabel('Epoch')\n",
    "plt.ylabel('Loss')\n",
    "plt.legend()\n",
    "\n",
    "plt.tight_layout()\n",
    "plt.show()\n"
   ]
  },
  {
   "cell_type": "markdown",
   "id": "bb422301",
   "metadata": {},
   "source": [
    "## 9. Evaluate Model on Test Set"
   ]
  },
  {
   "cell_type": "code",
   "execution_count": 8,
   "id": "2003a7a4",
   "metadata": {},
   "outputs": [
    {
     "name": "stdout",
     "output_type": "stream",
     "text": [
      "\u001b[1m12/12\u001b[0m \u001b[32m━━━━━━━━━━━━━━━━━━━━\u001b[0m\u001b[37m\u001b[0m \u001b[1m7s\u001b[0m 561ms/step - accuracy: 0.8926 - loss: 0.3363\n",
      "✅ Test Accuracy: 0.8871\n"
     ]
    }
   ],
   "source": [
    "\n",
    "# Evaluate the trained model on the unseen test set\n",
    "test_loss, test_accuracy = model.evaluate(test_gen)\n",
    "print(f\"✅ Test Accuracy: {test_accuracy:.4f}\")\n"
   ]
  },
  {
   "cell_type": "markdown",
   "id": "ea224d21",
   "metadata": {},
   "source": [
    "## 10. Classification Report and Confusion Matrix"
   ]
  },
  {
   "cell_type": "code",
   "execution_count": 12,
   "id": "07171c9b",
   "metadata": {},
   "outputs": [
    {
     "name": "stdout",
     "output_type": "stream",
     "text": [
      "\u001b[1m12/12\u001b[0m \u001b[32m━━━━━━━━━━━━━━━━━━━━\u001b[0m\u001b[37m\u001b[0m \u001b[1m7s\u001b[0m 469ms/step\n",
      "              precision    recall  f1-score   support\n",
      "\n",
      "       paper       0.37      0.24      0.29       124\n",
      "        rock       0.35      0.47      0.40       124\n",
      "    scissors       0.31      0.31      0.31       124\n",
      "\n",
      "    accuracy                           0.34       372\n",
      "   macro avg       0.34      0.34      0.34       372\n",
      "weighted avg       0.34      0.34      0.34       372\n",
      "\n"
     ]
    },
    {
     "data": {
      "image/png": "[encoded data removed]",
      "text/plain": [
       "<Figure size 600x500 with 2 Axes>"
      ]
     },
     "metadata": {},
     "output_type": "display_data"
    }
   ],
   "source": [
    "\n",
    "from sklearn.metrics import classification_report, confusion_matrix\n",
    "import seaborn as sns\n",
    "import pandas as pd\n",
    "\n",
    "# Predict labels\n",
    "y_pred = model.predict(test_gen)\n",
    "y_pred_classes = np.argmax(y_pred, axis=1)\n",
    "y_true = test_gen.classes\n",
    "class_labels = list(test_gen.class_indices.keys())\n",
    "\n",
    "# Classification report\n",
    "report = classification_report(y_true, y_pred_classes, target_names=class_labels)\n",
    "print(report)\n",
    "\n",
    "# Confusion matrix\n",
    "cm = confusion_matrix(y_true, y_pred_classes)\n",
    "df_cm = pd.DataFrame(cm, index=class_labels, columns=class_labels)\n",
    "\n",
    "plt.figure(figsize=(6,5))\n",
    "sns.heatmap(df_cm, annot=True, fmt=\"d\", cmap=\"Blues\")\n",
    "plt.title(\"Confusion Matrix\")\n",
    "plt.ylabel(\"True Label\")\n",
    "plt.xlabel(\"Predicted Label\")\n",
    "plt.show()\n"
   ]
  },
  {
   "cell_type": "markdown",
   "id": "a06923ad",
   "metadata": {},
   "source": [
    "## 11. Export Model to `.h5` and `.tflite`"
   ]
  },
  {
   "cell_type": "code",
   "execution_count": 13,
   "id": "f9447cd0",
   "metadata": {},
   "outputs": [
    {
     "name": "stderr",
     "output_type": "stream",
     "text": [
      "WARNING:absl:You are saving your model as an HDF5 file via `model.save()` or `keras.saving.save_model(model)`. This file format is considered legacy. We recommend using instead the native Keras format, e.g. `model.save('my_model.keras')` or `keras.saving.save_model(model, 'my_model.keras')`. \n"
     ]
    },
    {
     "name": "stdout",
     "output_type": "stream",
     "text": [
      "INFO:tensorflow:Assets written to: C:\\Users\\SHAILS~1\\AppData\\Local\\Temp\\tmpggdkqgzg\\assets\n"
     ]
    },
    {
     "name": "stderr",
     "output_type": "stream",
     "text": [
      "INFO:tensorflow:Assets written to: C:\\Users\\SHAILS~1\\AppData\\Local\\Temp\\tmpggdkqgzg\\assets\n"
     ]
    },
    {
     "name": "stdout",
     "output_type": "stream",
     "text": [
      "Saved artifact at 'C:\\Users\\SHAILS~1\\AppData\\Local\\Temp\\tmpggdkqgzg'. The following endpoints are available:\n",
      "\n",
      "* Endpoint 'serve'\n",
      "  args_0 (POSITIONAL_ONLY): TensorSpec(shape=(None, 224, 224, 3), dtype=tf.float32, name='keras_tensor')\n",
      "Output Type:\n",
      "  TensorSpec(shape=(None, 3), dtype=tf.float32, name=None)\n",
      "Captures:\n",
      "  3071833244880: TensorSpec(shape=(), dtype=tf.resource, name=None)\n",
      "  3071833245456: TensorSpec(shape=(), dtype=tf.resource, name=None)\n",
      "  3071833247184: TensorSpec(shape=(), dtype=tf.resource, name=None)\n",
      "  3071833246800: TensorSpec(shape=(), dtype=tf.resource, name=None)\n",
      "  3071833244688: TensorSpec(shape=(), dtype=tf.resource, name=None)\n",
      "  3071833247376: TensorSpec(shape=(), dtype=tf.resource, name=None)\n",
      "  3071833246416: TensorSpec(shape=(), dtype=tf.resource, name=None)\n",
      "  3071833245072: TensorSpec(shape=(), dtype=tf.resource, name=None)\n",
      "  3071833247568: TensorSpec(shape=(), dtype=tf.resource, name=None)\n",
      "  3071833245648: TensorSpec(shape=(), dtype=tf.resource, name=None)\n",
      "  3071833247952: TensorSpec(shape=(), dtype=tf.resource, name=None)\n",
      "  3071833249488: TensorSpec(shape=(), dtype=tf.resource, name=None)\n",
      "  3071833246224: TensorSpec(shape=(), dtype=tf.resource, name=None)\n",
      "  3071833246032: TensorSpec(shape=(), dtype=tf.resource, name=None)\n",
      "  3071833248528: TensorSpec(shape=(), dtype=tf.resource, name=None)\n",
      "  3071833251408: TensorSpec(shape=(), dtype=tf.resource, name=None)\n",
      "  3071833253328: TensorSpec(shape=(), dtype=tf.resource, name=None)\n",
      "  3071833251984: TensorSpec(shape=(), dtype=tf.resource, name=None)\n",
      "  3071833252368: TensorSpec(shape=(), dtype=tf.resource, name=None)\n",
      "  3071833251216: TensorSpec(shape=(), dtype=tf.resource, name=None)\n",
      "  3071833254864: TensorSpec(shape=(), dtype=tf.resource, name=None)\n",
      "  3071833254480: TensorSpec(shape=(), dtype=tf.resource, name=None)\n",
      "  3071833254096: TensorSpec(shape=(), dtype=tf.resource, name=None)\n",
      "  3071833255056: TensorSpec(shape=(), dtype=tf.resource, name=None)\n",
      "  3071833253712: TensorSpec(shape=(), dtype=tf.resource, name=None)\n",
      "  3071833257168: TensorSpec(shape=(), dtype=tf.resource, name=None)\n",
      "  3071833257552: TensorSpec(shape=(), dtype=tf.resource, name=None)\n",
      "  3071833257936: TensorSpec(shape=(), dtype=tf.resource, name=None)\n",
      "  3071833257744: TensorSpec(shape=(), dtype=tf.resource, name=None)\n",
      "  3071833252560: TensorSpec(shape=(), dtype=tf.resource, name=None)\n",
      "  3071833259088: TensorSpec(shape=(), dtype=tf.resource, name=None)\n",
      "  3071833258704: TensorSpec(shape=(), dtype=tf.resource, name=None)\n",
      "  3071833258320: TensorSpec(shape=(), dtype=tf.resource, name=None)\n",
      "  3071833259664: TensorSpec(shape=(), dtype=tf.resource, name=None)\n",
      "  3071833256016: TensorSpec(shape=(), dtype=tf.resource, name=None)\n",
      "  3071833256784: TensorSpec(shape=(), dtype=tf.resource, name=None)\n",
      "  3071833736592: TensorSpec(shape=(), dtype=tf.resource, name=None)\n",
      "  3071833735632: TensorSpec(shape=(), dtype=tf.resource, name=None)\n",
      "  3071833736400: TensorSpec(shape=(), dtype=tf.resource, name=None)\n",
      "  3071833735440: TensorSpec(shape=(), dtype=tf.resource, name=None)\n",
      "  3071833735824: TensorSpec(shape=(), dtype=tf.resource, name=None)\n",
      "  3071833738704: TensorSpec(shape=(), dtype=tf.resource, name=None)\n",
      "  3071833739088: TensorSpec(shape=(), dtype=tf.resource, name=None)\n",
      "  3071833738896: TensorSpec(shape=(), dtype=tf.resource, name=None)\n",
      "  3071833736016: TensorSpec(shape=(), dtype=tf.resource, name=None)\n",
      "  3071833737744: TensorSpec(shape=(), dtype=tf.resource, name=None)\n",
      "  3071833740816: TensorSpec(shape=(), dtype=tf.resource, name=None)\n",
      "  3071833741200: TensorSpec(shape=(), dtype=tf.resource, name=None)\n",
      "  3071833741008: TensorSpec(shape=(), dtype=tf.resource, name=None)\n",
      "  3071833738128: TensorSpec(shape=(), dtype=tf.resource, name=None)\n",
      "  3071833742352: TensorSpec(shape=(), dtype=tf.resource, name=None)\n",
      "  3071833742736: TensorSpec(shape=(), dtype=tf.resource, name=None)\n",
      "  3071833743120: TensorSpec(shape=(), dtype=tf.resource, name=None)\n",
      "  3071833742928: TensorSpec(shape=(), dtype=tf.resource, name=None)\n",
      "  3071833739856: TensorSpec(shape=(), dtype=tf.resource, name=None)\n",
      "  3071833744272: TensorSpec(shape=(), dtype=tf.resource, name=None)\n",
      "  3071833744656: TensorSpec(shape=(), dtype=tf.resource, name=None)\n",
      "  3071833745040: TensorSpec(shape=(), dtype=tf.resource, name=None)\n",
      "  3071833744848: TensorSpec(shape=(), dtype=tf.resource, name=None)\n",
      "  3071833740432: TensorSpec(shape=(), dtype=tf.resource, name=None)\n",
      "  3071833746192: TensorSpec(shape=(), dtype=tf.resource, name=None)\n",
      "  3071833746576: TensorSpec(shape=(), dtype=tf.resource, name=None)\n",
      "  3071833746960: TensorSpec(shape=(), dtype=tf.resource, name=None)\n",
      "  3071833746768: TensorSpec(shape=(), dtype=tf.resource, name=None)\n",
      "  3071833741968: TensorSpec(shape=(), dtype=tf.resource, name=None)\n",
      "  3071833748112: TensorSpec(shape=(), dtype=tf.resource, name=None)\n",
      "  3071833748496: TensorSpec(shape=(), dtype=tf.resource, name=None)\n",
      "  3071833748880: TensorSpec(shape=(), dtype=tf.resource, name=None)\n",
      "  3071833748688: TensorSpec(shape=(), dtype=tf.resource, name=None)\n",
      "  3071833743888: TensorSpec(shape=(), dtype=tf.resource, name=None)\n",
      "  3071833750032: TensorSpec(shape=(), dtype=tf.resource, name=None)\n",
      "  3071833750416: TensorSpec(shape=(), dtype=tf.resource, name=None)\n",
      "  3071833751184: TensorSpec(shape=(), dtype=tf.resource, name=None)\n",
      "  3071833750608: TensorSpec(shape=(), dtype=tf.resource, name=None)\n",
      "  3071833745808: TensorSpec(shape=(), dtype=tf.resource, name=None)\n",
      "  3071833749264: TensorSpec(shape=(), dtype=tf.resource, name=None)\n",
      "  3071837422224: TensorSpec(shape=(), dtype=tf.resource, name=None)\n",
      "  3071837422800: TensorSpec(shape=(), dtype=tf.resource, name=None)\n",
      "  3071833749648: TensorSpec(shape=(), dtype=tf.resource, name=None)\n",
      "  3071837421840: TensorSpec(shape=(), dtype=tf.resource, name=None)\n",
      "  3071837423952: TensorSpec(shape=(), dtype=tf.resource, name=None)\n",
      "  3071837424336: TensorSpec(shape=(), dtype=tf.resource, name=None)\n",
      "  3071837424720: TensorSpec(shape=(), dtype=tf.resource, name=None)\n",
      "  3071837424528: TensorSpec(shape=(), dtype=tf.resource, name=None)\n",
      "  3071837421648: TensorSpec(shape=(), dtype=tf.resource, name=None)\n",
      "  3071837425872: TensorSpec(shape=(), dtype=tf.resource, name=None)\n",
      "  3071837426256: TensorSpec(shape=(), dtype=tf.resource, name=None)\n",
      "  3071837426640: TensorSpec(shape=(), dtype=tf.resource, name=None)\n",
      "  3071837426448: TensorSpec(shape=(), dtype=tf.resource, name=None)\n",
      "  3071837422416: TensorSpec(shape=(), dtype=tf.resource, name=None)\n",
      "  3071837427792: TensorSpec(shape=(), dtype=tf.resource, name=None)\n",
      "  3071837428176: TensorSpec(shape=(), dtype=tf.resource, name=None)\n",
      "  3071837428560: TensorSpec(shape=(), dtype=tf.resource, name=None)\n",
      "  3071837428368: TensorSpec(shape=(), dtype=tf.resource, name=None)\n",
      "  3071837423568: TensorSpec(shape=(), dtype=tf.resource, name=None)\n",
      "  3071837429712: TensorSpec(shape=(), dtype=tf.resource, name=None)\n",
      "  3071837430096: TensorSpec(shape=(), dtype=tf.resource, name=None)\n",
      "  3071837430480: TensorSpec(shape=(), dtype=tf.resource, name=None)\n",
      "  3071837430288: TensorSpec(shape=(), dtype=tf.resource, name=None)\n",
      "  3071837425488: TensorSpec(shape=(), dtype=tf.resource, name=None)\n",
      "  3071837431632: TensorSpec(shape=(), dtype=tf.resource, name=None)\n",
      "  3071837432016: TensorSpec(shape=(), dtype=tf.resource, name=None)\n",
      "  3071837432400: TensorSpec(shape=(), dtype=tf.resource, name=None)\n",
      "  3071837432208: TensorSpec(shape=(), dtype=tf.resource, name=None)\n",
      "  3071837427408: TensorSpec(shape=(), dtype=tf.resource, name=None)\n",
      "  3071837433552: TensorSpec(shape=(), dtype=tf.resource, name=None)\n",
      "  3071837433936: TensorSpec(shape=(), dtype=tf.resource, name=None)\n",
      "  3071837434320: TensorSpec(shape=(), dtype=tf.resource, name=None)\n",
      "  3071837434128: TensorSpec(shape=(), dtype=tf.resource, name=None)\n",
      "  3071837429328: TensorSpec(shape=(), dtype=tf.resource, name=None)\n",
      "  3071837435472: TensorSpec(shape=(), dtype=tf.resource, name=None)\n",
      "  3071837435856: TensorSpec(shape=(), dtype=tf.resource, name=None)\n",
      "  3071837436240: TensorSpec(shape=(), dtype=tf.resource, name=None)\n",
      "  3071837436048: TensorSpec(shape=(), dtype=tf.resource, name=None)\n",
      "  3071837431248: TensorSpec(shape=(), dtype=tf.resource, name=None)\n",
      "  3071837437392: TensorSpec(shape=(), dtype=tf.resource, name=None)\n",
      "  3071837422032: TensorSpec(shape=(), dtype=tf.resource, name=None)\n",
      "  3071837437776: TensorSpec(shape=(), dtype=tf.resource, name=None)\n",
      "  3071837437584: TensorSpec(shape=(), dtype=tf.resource, name=None)\n",
      "  3071837435088: TensorSpec(shape=(), dtype=tf.resource, name=None)\n",
      "  3071837798864: TensorSpec(shape=(), dtype=tf.resource, name=None)\n",
      "  3071837800208: TensorSpec(shape=(), dtype=tf.resource, name=None)\n",
      "  3071837800592: TensorSpec(shape=(), dtype=tf.resource, name=None)\n",
      "  3071837800400: TensorSpec(shape=(), dtype=tf.resource, name=None)\n",
      "  3071837799056: TensorSpec(shape=(), dtype=tf.resource, name=None)\n",
      "  3071837801744: TensorSpec(shape=(), dtype=tf.resource, name=None)\n",
      "  3071837802128: TensorSpec(shape=(), dtype=tf.resource, name=None)\n",
      "  3071837802512: TensorSpec(shape=(), dtype=tf.resource, name=None)\n",
      "  3071837802320: TensorSpec(shape=(), dtype=tf.resource, name=None)\n",
      "  3071837799632: TensorSpec(shape=(), dtype=tf.resource, name=None)\n",
      "  3071837803664: TensorSpec(shape=(), dtype=tf.resource, name=None)\n",
      "  3071837804048: TensorSpec(shape=(), dtype=tf.resource, name=None)\n",
      "  3071837804432: TensorSpec(shape=(), dtype=tf.resource, name=None)\n",
      "  3071837804240: TensorSpec(shape=(), dtype=tf.resource, name=None)\n",
      "  3071837799824: TensorSpec(shape=(), dtype=tf.resource, name=None)\n",
      "  3071837805584: TensorSpec(shape=(), dtype=tf.resource, name=None)\n",
      "  3071837805968: TensorSpec(shape=(), dtype=tf.resource, name=None)\n",
      "  3071837806352: TensorSpec(shape=(), dtype=tf.resource, name=None)\n",
      "  3071837806160: TensorSpec(shape=(), dtype=tf.resource, name=None)\n",
      "  3071837801360: TensorSpec(shape=(), dtype=tf.resource, name=None)\n",
      "  3071837807504: TensorSpec(shape=(), dtype=tf.resource, name=None)\n",
      "  3071837807888: TensorSpec(shape=(), dtype=tf.resource, name=None)\n",
      "  3071837808272: TensorSpec(shape=(), dtype=tf.resource, name=None)\n",
      "  3071837808080: TensorSpec(shape=(), dtype=tf.resource, name=None)\n",
      "  3071837803280: TensorSpec(shape=(), dtype=tf.resource, name=None)\n",
      "  3071837809424: TensorSpec(shape=(), dtype=tf.resource, name=None)\n",
      "  3071837809808: TensorSpec(shape=(), dtype=tf.resource, name=None)\n",
      "  3071837810192: TensorSpec(shape=(), dtype=tf.resource, name=None)\n",
      "  3071837810000: TensorSpec(shape=(), dtype=tf.resource, name=None)\n",
      "  3071837805200: TensorSpec(shape=(), dtype=tf.resource, name=None)\n",
      "  3071837811344: TensorSpec(shape=(), dtype=tf.resource, name=None)\n",
      "  3071837811728: TensorSpec(shape=(), dtype=tf.resource, name=None)\n",
      "  3071837812112: TensorSpec(shape=(), dtype=tf.resource, name=None)\n",
      "  3071837811920: TensorSpec(shape=(), dtype=tf.resource, name=None)\n",
      "  3071837807120: TensorSpec(shape=(), dtype=tf.resource, name=None)\n",
      "  3071837813264: TensorSpec(shape=(), dtype=tf.resource, name=None)\n",
      "  3071837813648: TensorSpec(shape=(), dtype=tf.resource, name=None)\n",
      "  3071837814416: TensorSpec(shape=(), dtype=tf.resource, name=None)\n",
      "  3071837813840: TensorSpec(shape=(), dtype=tf.resource, name=None)\n",
      "  3071837809040: TensorSpec(shape=(), dtype=tf.resource, name=None)\n",
      "  3071837812496: TensorSpec(shape=(), dtype=tf.resource, name=None)\n",
      "  3071838274576: TensorSpec(shape=(), dtype=tf.resource, name=None)\n",
      "  3071838273616: TensorSpec(shape=(), dtype=tf.resource, name=None)\n",
      "  3071837812880: TensorSpec(shape=(), dtype=tf.resource, name=None)\n",
      "  3071838273808: TensorSpec(shape=(), dtype=tf.resource, name=None)\n",
      "  3071838275920: TensorSpec(shape=(), dtype=tf.resource, name=None)\n",
      "  3071838276304: TensorSpec(shape=(), dtype=tf.resource, name=None)\n",
      "  3071838276688: TensorSpec(shape=(), dtype=tf.resource, name=None)\n",
      "  3071838276496: TensorSpec(shape=(), dtype=tf.resource, name=None)\n",
      "  3071838274000: TensorSpec(shape=(), dtype=tf.resource, name=None)\n",
      "  3071838277840: TensorSpec(shape=(), dtype=tf.resource, name=None)\n",
      "  3071838278224: TensorSpec(shape=(), dtype=tf.resource, name=None)\n",
      "  3071838278608: TensorSpec(shape=(), dtype=tf.resource, name=None)\n",
      "  3071838278416: TensorSpec(shape=(), dtype=tf.resource, name=None)\n",
      "  3071838274384: TensorSpec(shape=(), dtype=tf.resource, name=None)\n",
      "  3071838279760: TensorSpec(shape=(), dtype=tf.resource, name=None)\n",
      "  3071838280144: TensorSpec(shape=(), dtype=tf.resource, name=None)\n",
      "  3071838280528: TensorSpec(shape=(), dtype=tf.resource, name=None)\n",
      "  3071838280336: TensorSpec(shape=(), dtype=tf.resource, name=None)\n",
      "  3071838275536: TensorSpec(shape=(), dtype=tf.resource, name=None)\n",
      "  3071838281680: TensorSpec(shape=(), dtype=tf.resource, name=None)\n",
      "  3071838282064: TensorSpec(shape=(), dtype=tf.resource, name=None)\n",
      "  3071838282448: TensorSpec(shape=(), dtype=tf.resource, name=None)\n",
      "  3071838282256: TensorSpec(shape=(), dtype=tf.resource, name=None)\n",
      "  3071838277456: TensorSpec(shape=(), dtype=tf.resource, name=None)\n",
      "  3071838283600: TensorSpec(shape=(), dtype=tf.resource, name=None)\n",
      "  3071838283984: TensorSpec(shape=(), dtype=tf.resource, name=None)\n",
      "  3071838284368: TensorSpec(shape=(), dtype=tf.resource, name=None)\n",
      "  3071838284176: TensorSpec(shape=(), dtype=tf.resource, name=None)\n",
      "  3071838279376: TensorSpec(shape=(), dtype=tf.resource, name=None)\n",
      "  3071838285520: TensorSpec(shape=(), dtype=tf.resource, name=None)\n",
      "  3071838285904: TensorSpec(shape=(), dtype=tf.resource, name=None)\n",
      "  3071838286288: TensorSpec(shape=(), dtype=tf.resource, name=None)\n",
      "  3071838286096: TensorSpec(shape=(), dtype=tf.resource, name=None)\n",
      "  3071838281296: TensorSpec(shape=(), dtype=tf.resource, name=None)\n",
      "  3071838287440: TensorSpec(shape=(), dtype=tf.resource, name=None)\n",
      "  3071838287824: TensorSpec(shape=(), dtype=tf.resource, name=None)\n",
      "  3071838288208: TensorSpec(shape=(), dtype=tf.resource, name=None)\n",
      "  3071838288016: TensorSpec(shape=(), dtype=tf.resource, name=None)\n",
      "  3071838283216: TensorSpec(shape=(), dtype=tf.resource, name=None)\n",
      "  3071838289360: TensorSpec(shape=(), dtype=tf.resource, name=None)\n",
      "  3071838274768: TensorSpec(shape=(), dtype=tf.resource, name=None)\n",
      "  3071838289744: TensorSpec(shape=(), dtype=tf.resource, name=None)\n",
      "  3071838289552: TensorSpec(shape=(), dtype=tf.resource, name=None)\n",
      "  3071838287056: TensorSpec(shape=(), dtype=tf.resource, name=None)\n",
      "  3071855182288: TensorSpec(shape=(), dtype=tf.resource, name=None)\n",
      "  3071855183632: TensorSpec(shape=(), dtype=tf.resource, name=None)\n",
      "  3071855184016: TensorSpec(shape=(), dtype=tf.resource, name=None)\n",
      "  3071855183824: TensorSpec(shape=(), dtype=tf.resource, name=None)\n",
      "  3071855182480: TensorSpec(shape=(), dtype=tf.resource, name=None)\n",
      "  3071855185168: TensorSpec(shape=(), dtype=tf.resource, name=None)\n",
      "  3071855185552: TensorSpec(shape=(), dtype=tf.resource, name=None)\n",
      "  3071855185936: TensorSpec(shape=(), dtype=tf.resource, name=None)\n",
      "  3071855185744: TensorSpec(shape=(), dtype=tf.resource, name=None)\n",
      "  3071855183056: TensorSpec(shape=(), dtype=tf.resource, name=None)\n",
      "  3071855187088: TensorSpec(shape=(), dtype=tf.resource, name=None)\n",
      "  3071855187472: TensorSpec(shape=(), dtype=tf.resource, name=None)\n",
      "  3071855187856: TensorSpec(shape=(), dtype=tf.resource, name=None)\n",
      "  3071855187664: TensorSpec(shape=(), dtype=tf.resource, name=None)\n",
      "  3071855183248: TensorSpec(shape=(), dtype=tf.resource, name=None)\n",
      "  3071855189008: TensorSpec(shape=(), dtype=tf.resource, name=None)\n",
      "  3071855189392: TensorSpec(shape=(), dtype=tf.resource, name=None)\n",
      "  3071855189776: TensorSpec(shape=(), dtype=tf.resource, name=None)\n",
      "  3071855189584: TensorSpec(shape=(), dtype=tf.resource, name=None)\n",
      "  3071855184784: TensorSpec(shape=(), dtype=tf.resource, name=None)\n",
      "  3071855190928: TensorSpec(shape=(), dtype=tf.resource, name=None)\n",
      "  3071855191312: TensorSpec(shape=(), dtype=tf.resource, name=None)\n",
      "  3071855191696: TensorSpec(shape=(), dtype=tf.resource, name=None)\n",
      "  3071855191504: TensorSpec(shape=(), dtype=tf.resource, name=None)\n",
      "  3071855186704: TensorSpec(shape=(), dtype=tf.resource, name=None)\n",
      "  3071855192848: TensorSpec(shape=(), dtype=tf.resource, name=None)\n",
      "  3071855193232: TensorSpec(shape=(), dtype=tf.resource, name=None)\n",
      "  3071855193616: TensorSpec(shape=(), dtype=tf.resource, name=None)\n",
      "  3071855193424: TensorSpec(shape=(), dtype=tf.resource, name=None)\n",
      "  3071855188624: TensorSpec(shape=(), dtype=tf.resource, name=None)\n",
      "  3071855194768: TensorSpec(shape=(), dtype=tf.resource, name=None)\n",
      "  3071855195152: TensorSpec(shape=(), dtype=tf.resource, name=None)\n",
      "  3071855195536: TensorSpec(shape=(), dtype=tf.resource, name=None)\n",
      "  3071855195344: TensorSpec(shape=(), dtype=tf.resource, name=None)\n",
      "  3071855190544: TensorSpec(shape=(), dtype=tf.resource, name=None)\n",
      "  3071855196688: TensorSpec(shape=(), dtype=tf.resource, name=None)\n",
      "  3071855197072: TensorSpec(shape=(), dtype=tf.resource, name=None)\n",
      "  3071855197840: TensorSpec(shape=(), dtype=tf.resource, name=None)\n",
      "  3071855197264: TensorSpec(shape=(), dtype=tf.resource, name=None)\n",
      "  3071855192464: TensorSpec(shape=(), dtype=tf.resource, name=None)\n",
      "  3071855195920: TensorSpec(shape=(), dtype=tf.resource, name=None)\n",
      "  3071855625232: TensorSpec(shape=(), dtype=tf.resource, name=None)\n",
      "  3071855624272: TensorSpec(shape=(), dtype=tf.resource, name=None)\n",
      "  3071855196304: TensorSpec(shape=(), dtype=tf.resource, name=None)\n",
      "  3071855624464: TensorSpec(shape=(), dtype=tf.resource, name=None)\n",
      "  3071855626576: TensorSpec(shape=(), dtype=tf.resource, name=None)\n",
      "  3071855626960: TensorSpec(shape=(), dtype=tf.resource, name=None)\n",
      "  3071855627344: TensorSpec(shape=(), dtype=tf.resource, name=None)\n",
      "  3071855627152: TensorSpec(shape=(), dtype=tf.resource, name=None)\n",
      "  3071855624656: TensorSpec(shape=(), dtype=tf.resource, name=None)\n",
      "  3071855628496: TensorSpec(shape=(), dtype=tf.resource, name=None)\n",
      "  3071855628880: TensorSpec(shape=(), dtype=tf.resource, name=None)\n",
      "  3071855629264: TensorSpec(shape=(), dtype=tf.resource, name=None)\n",
      "  3071855629072: TensorSpec(shape=(), dtype=tf.resource, name=None)\n",
      "  3071855625040: TensorSpec(shape=(), dtype=tf.resource, name=None)\n",
      "  3071855626192: TensorSpec(shape=(), dtype=tf.resource, name=None)\n",
      "  3071855631568: TensorSpec(shape=(), dtype=tf.resource, name=None)\n",
      "  3071855630800: TensorSpec(shape=(), dtype=tf.resource, name=None)\n",
      "  3071855632720: TensorSpec(shape=(), dtype=tf.resource, name=None)\n",
      "  3071855631952: TensorSpec(shape=(), dtype=tf.resource, name=None)\n",
      "  3071855633872: TensorSpec(shape=(), dtype=tf.resource, name=None)\n",
      "✅ Model exported as .h5 and .tflite\n"
     ]
    }
   ],
   "source": [
    "\n",
    "# Save as HDF5 format\n",
    "model.save(\"rock_paper_scissors_model.h5\")\n",
    "\n",
    "# Convert to TFLite\n",
    "converter = tf.lite.TFLiteConverter.from_keras_model(model)\n",
    "tflite_model = converter.convert()\n",
    "\n",
    "with open(\"rock_paper_scissors_model.tflite\", \"wb\") as f:\n",
    "    f.write(tflite_model)\n",
    "\n",
    "print(\"✅ Model exported as .h5 and .tflite\")\n"
   ]
  },
  {
   "cell_type": "code",
   "execution_count": null,
   "id": "c7dbd373",
   "metadata": {},
   "outputs": [],
   "source": []
  },
  {
   "cell_type": "code",
   "execution_count": null,
   "id": "b4eb6763",
   "metadata": {},
   "outputs": [],
   "source": []
  }
 ],
 "metadata": {
  "kernelspec": {
   "display_name": "rock_paper_scissor_game_env",
   "language": "python",
   "name": "python3"
  },
  "language_info": {
   "codemirror_mode": {
    "name": "ipython",
    "version": 3
   },
   "file_extension": ".py",
   "mimetype": "text/x-python",
   "name": "python",
   "nbconvert_exporter": "python",
   "pygments_lexer": "ipython3",
   "version": "3.12.7"
  }
 },
 "nbformat": 4,
 "nbformat_minor": 5
}
