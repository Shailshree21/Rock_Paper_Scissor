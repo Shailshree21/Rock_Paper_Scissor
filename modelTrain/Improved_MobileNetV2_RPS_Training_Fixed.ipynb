{
 "cells": [
  {
   "cell_type": "markdown",
   "id": "c1e571d9",
   "metadata": {},
   "source": [
    "# 🧠 Rock Paper Scissors Classification with MobileNetV2 (Fixed Version)"
   ]
  },
  {
   "cell_type": "markdown",
   "id": "ade2b601",
   "metadata": {},
   "source": [
    "## 1. Install and Import Libraries"
   ]
  },
  {
   "cell_type": "code",
   "execution_count": 1,
   "id": "d8732370",
   "metadata": {},
   "outputs": [
    {
     "name": "stderr",
     "output_type": "stream",
     "text": [
      "c:\\Users\\shailshree\\Desktop\\Academics\\3rd year\\computervision\\coursework\\app\\rock_paper_scissor_game_env\\Lib\\site-packages\\tqdm\\auto.py:21: TqdmWarning: IProgress not found. Please update jupyter and ipywidgets. See https://ipywidgets.readthedocs.io/en/stable/user_install.html\n",
      "  from .autonotebook import tqdm as notebook_tqdm\n"
     ]
    }
   ],
   "source": [
    "import os\n",
    "import json\n",
    "import numpy as np\n",
    "import matplotlib.pyplot as plt\n",
    "import tensorflow as tf\n",
    "from PIL import Image\n",
    "from datasets import load_dataset\n",
    "from sklearn.utils.class_weight import compute_class_weight\n",
    "from tensorflow.keras.applications import MobileNetV2\n",
    "from tensorflow.keras.models import Model\n",
    "from tensorflow.keras.layers import GlobalAveragePooling2D, Dense, Dropout\n",
    "from tensorflow.keras.preprocessing.image import ImageDataGenerator\n",
    "from tensorflow.keras.callbacks import EarlyStopping, ModelCheckpoint, ReduceLROnPlateau\n"
   ]
  },
  {
   "cell_type": "markdown",
   "id": "31d55e66",
   "metadata": {},
   "source": [
    "## 2. Extract Dataset from Hugging Face"
   ]
  },
  {
   "cell_type": "code",
   "execution_count": null,
   "id": "0058c474",
   "metadata": {},
   "outputs": [],
   "source": [
    "\n",
    "dataset = load_dataset(\"Javtor/rock-paper-scissors\")\n",
    "label_names = dataset['train'].features['label'].names\n",
    "\n",
    "base_dir = \"dataset\"\n",
    "splits = ['train', 'test']\n",
    "\n",
    "def save_images_to_folder(split_name):\n",
    "    split_dataset = dataset[split_name]\n",
    "    for idx, sample in enumerate(split_dataset):\n",
    "        label = label_names[sample['label']]\n",
    "        image = sample['image']\n",
    "        if image.mode == 'RGBA':\n",
    "            image = image.convert('RGB')\n",
    "        save_dir = os.path.join(base_dir, split_name, label)\n",
    "        os.makedirs(save_dir, exist_ok=True)\n",
    "        image_path = os.path.join(save_dir, f\"{split_name}_{label}_{idx}.jpg\")\n",
    "        image.save(image_path)\n",
    "\n",
    "for split in splits:\n",
    "    save_images_to_folder(split)\n"
   ]
  },
  {
   "cell_type": "markdown",
   "id": "a6096d04",
   "metadata": {},
   "source": [
    "## 3. Load Dataset and Extract Correct Class Order"
   ]
  },
  {
   "cell_type": "code",
   "execution_count": 2,
   "id": "dd74f0f2",
   "metadata": {},
   "outputs": [
    {
     "name": "stdout",
     "output_type": "stream",
     "text": [
      "Found 2520 images belonging to 3 classes.\n",
      "✅ Class order: ['paper', 'rock', 'scissors']\n"
     ]
    }
   ],
   "source": [
    "\n",
    "train_dir = 'dataset/train'\n",
    "test_dir = 'dataset/test'\n",
    "\n",
    "# Load class names in correct order\n",
    "temp_gen = ImageDataGenerator(rescale=1./255).flow_from_directory(\n",
    "    train_dir, target_size=(224, 224), batch_size=1)\n",
    "class_indices = temp_gen.class_indices\n",
    "class_names = [None] * len(class_indices)\n",
    "for name, index in class_indices.items():\n",
    "    class_names[index] = name\n",
    "\n",
    "print(\"✅ Class order:\", class_names)\n",
    "\n",
    "with open(\"class_names.json\", \"w\") as f:\n",
    "    json.dump(class_names, f)\n"
   ]
  },
  {
   "cell_type": "markdown",
   "id": "73d5deed",
   "metadata": {},
   "source": [
    "## 4. Create Augmented Data Generators"
   ]
  },
  {
   "cell_type": "code",
   "execution_count": 3,
   "id": "c4074b8a",
   "metadata": {},
   "outputs": [
    {
     "name": "stdout",
     "output_type": "stream",
     "text": [
      "Found 2016 images belonging to 3 classes.\n",
      "Found 504 images belonging to 3 classes.\n",
      "Found 372 images belonging to 3 classes.\n"
     ]
    }
   ],
   "source": [
    "\n",
    "train_datagen = ImageDataGenerator(\n",
    "    rescale=1./255,\n",
    "    rotation_range=30,\n",
    "    zoom_range=0.3,\n",
    "    horizontal_flip=True,\n",
    "    width_shift_range=0.2,\n",
    "    height_shift_range=0.2,\n",
    "    shear_range=0.2,\n",
    "    brightness_range=[0.7, 1.3],\n",
    "    validation_split=0.2\n",
    ")\n",
    "test_datagen = ImageDataGenerator(rescale=1./255)\n",
    "\n",
    "train_gen = train_datagen.flow_from_directory(\n",
    "    train_dir, target_size=(224, 224), batch_size=32,\n",
    "    class_mode='categorical', subset='training'\n",
    ")\n",
    "val_gen = train_datagen.flow_from_directory(\n",
    "    train_dir, target_size=(224, 224), batch_size=32,\n",
    "    class_mode='categorical', subset='validation'\n",
    ")\n",
    "test_gen = test_datagen.flow_from_directory(\n",
    "    test_dir, target_size=(224, 224), batch_size=32, class_mode='categorical'\n",
    ")\n"
   ]
  },
  {
   "cell_type": "markdown",
   "id": "4347f64f",
   "metadata": {},
   "source": [
    "## 5. Compute Class Weights"
   ]
  },
  {
   "cell_type": "code",
   "execution_count": 4,
   "id": "a45f22c1",
   "metadata": {},
   "outputs": [],
   "source": [
    "\n",
    "y_train = train_gen.classes\n",
    "weights = compute_class_weight(class_weight='balanced', classes=np.unique(y_train), y=y_train)\n",
    "class_weights = dict(enumerate(weights))\n"
   ]
  },
  {
   "cell_type": "markdown",
   "id": "f38744fa",
   "metadata": {},
   "source": [
    "## 6. Define Model Architecture"
   ]
  },
  {
   "cell_type": "code",
   "execution_count": 5,
   "id": "96a8203e",
   "metadata": {},
   "outputs": [],
   "source": [
    "\n",
    "base_model = MobileNetV2(weights='imagenet', include_top=False, input_shape=(224, 224, 3))\n",
    "base_model.trainable = False\n",
    "\n",
    "x = base_model.output\n",
    "x = GlobalAveragePooling2D()(x)\n",
    "x = Dense(256, activation='relu')(x)\n",
    "x = Dropout(0.5)(x)\n",
    "x = Dense(128, activation='relu')(x)\n",
    "x = Dropout(0.3)(x)\n",
    "output = Dense(train_gen.num_classes, activation='softmax')(x)\n",
    "\n",
    "model = Model(inputs=base_model.input, outputs=output)\n"
   ]
  },
  {
   "cell_type": "markdown",
   "id": "6fad10a9",
   "metadata": {},
   "source": [
    "## 7. Train Top Layers"
   ]
  },
  {
   "cell_type": "code",
   "execution_count": 6,
   "id": "49cdc22d",
   "metadata": {},
   "outputs": [
    {
     "name": "stderr",
     "output_type": "stream",
     "text": [
      "c:\\Users\\shailshree\\Desktop\\Academics\\3rd year\\computervision\\coursework\\app\\rock_paper_scissor_game_env\\Lib\\site-packages\\keras\\src\\trainers\\data_adapters\\py_dataset_adapter.py:121: UserWarning: Your `PyDataset` class should call `super().__init__(**kwargs)` in its constructor. `**kwargs` can include `workers`, `use_multiprocessing`, `max_queue_size`. Do not pass these arguments to `fit()`, as they will be ignored.\n",
      "  self._warn_if_super_not_called()\n"
     ]
    },
    {
     "name": "stdout",
     "output_type": "stream",
     "text": [
      "Epoch 1/10\n",
      "\u001b[1m63/63\u001b[0m \u001b[32m━━━━━━━━━━━━━━━━━━━━\u001b[0m\u001b[37m\u001b[0m \u001b[1m0s\u001b[0m 567ms/step - accuracy: 0.6636 - loss: 0.7497"
     ]
    },
    {
     "name": "stderr",
     "output_type": "stream",
     "text": [
      "WARNING:absl:You are saving your model as an HDF5 file via `model.save()` or `keras.saving.save_model(model)`. This file format is considered legacy. We recommend using instead the native Keras format, e.g. `model.save('my_model.keras')` or `keras.saving.save_model(model, 'my_model.keras')`. \n"
     ]
    },
    {
     "name": "stdout",
     "output_type": "stream",
     "text": [
      "\u001b[1m63/63\u001b[0m \u001b[32m━━━━━━━━━━━━━━━━━━━━\u001b[0m\u001b[37m\u001b[0m \u001b[1m52s\u001b[0m 749ms/step - accuracy: 0.6659 - loss: 0.7450 - val_accuracy: 0.9147 - val_loss: 0.2280 - learning_rate: 0.0010\n",
      "Epoch 2/10\n",
      "\u001b[1m63/63\u001b[0m \u001b[32m━━━━━━━━━━━━━━━━━━━━\u001b[0m\u001b[37m\u001b[0m \u001b[1m0s\u001b[0m 556ms/step - accuracy: 0.9520 - loss: 0.1361"
     ]
    },
    {
     "name": "stderr",
     "output_type": "stream",
     "text": [
      "WARNING:absl:You are saving your model as an HDF5 file via `model.save()` or `keras.saving.save_model(model)`. This file format is considered legacy. We recommend using instead the native Keras format, e.g. `model.save('my_model.keras')` or `keras.saving.save_model(model, 'my_model.keras')`. \n"
     ]
    },
    {
     "name": "stdout",
     "output_type": "stream",
     "text": [
      "\u001b[1m63/63\u001b[0m \u001b[32m━━━━━━━━━━━━━━━━━━━━\u001b[0m\u001b[37m\u001b[0m \u001b[1m44s\u001b[0m 703ms/step - accuracy: 0.9521 - loss: 0.1357 - val_accuracy: 0.9266 - val_loss: 0.2095 - learning_rate: 0.0010\n",
      "Epoch 3/10\n",
      "\u001b[1m63/63\u001b[0m \u001b[32m━━━━━━━━━━━━━━━━━━━━\u001b[0m\u001b[37m\u001b[0m \u001b[1m44s\u001b[0m 695ms/step - accuracy: 0.9636 - loss: 0.1051 - val_accuracy: 0.8472 - val_loss: 0.6622 - learning_rate: 0.0010\n",
      "Epoch 4/10\n",
      "\u001b[1m63/63\u001b[0m \u001b[32m━━━━━━━━━━━━━━━━━━━━\u001b[0m\u001b[37m\u001b[0m \u001b[1m0s\u001b[0m 559ms/step - accuracy: 0.9713 - loss: 0.0810"
     ]
    },
    {
     "name": "stderr",
     "output_type": "stream",
     "text": [
      "WARNING:absl:You are saving your model as an HDF5 file via `model.save()` or `keras.saving.save_model(model)`. This file format is considered legacy. We recommend using instead the native Keras format, e.g. `model.save('my_model.keras')` or `keras.saving.save_model(model, 'my_model.keras')`. \n"
     ]
    },
    {
     "name": "stdout",
     "output_type": "stream",
     "text": [
      "\u001b[1m63/63\u001b[0m \u001b[32m━━━━━━━━━━━━━━━━━━━━\u001b[0m\u001b[37m\u001b[0m \u001b[1m44s\u001b[0m 704ms/step - accuracy: 0.9714 - loss: 0.0808 - val_accuracy: 0.9504 - val_loss: 0.1386 - learning_rate: 5.0000e-04\n",
      "Epoch 5/10\n",
      "\u001b[1m63/63\u001b[0m \u001b[32m━━━━━━━━━━━━━━━━━━━━\u001b[0m\u001b[37m\u001b[0m \u001b[1m44s\u001b[0m 697ms/step - accuracy: 0.9738 - loss: 0.0611 - val_accuracy: 0.8948 - val_loss: 0.3984 - learning_rate: 5.0000e-04\n",
      "Epoch 6/10\n",
      "\u001b[1m63/63\u001b[0m \u001b[32m━━━━━━━━━━━━━━━━━━━━\u001b[0m\u001b[37m\u001b[0m \u001b[1m44s\u001b[0m 700ms/step - accuracy: 0.9832 - loss: 0.0523 - val_accuracy: 0.9226 - val_loss: 0.2865 - learning_rate: 2.5000e-04\n"
     ]
    }
   ],
   "source": [
    "\n",
    "callbacks = [\n",
    "    EarlyStopping(monitor='val_loss', patience=2, restore_best_weights=True),\n",
    "    ModelCheckpoint('best_model.h5', monitor='val_accuracy', save_best_only=True),\n",
    "    ReduceLROnPlateau(monitor='val_loss', factor=0.5, patience=1, min_lr=1e-6)\n",
    "]\n",
    "\n",
    "model.compile(optimizer=tf.keras.optimizers.Adam(learning_rate=1e-3),\n",
    "              loss='categorical_crossentropy', metrics=['accuracy'])\n",
    "\n",
    "history = model.fit(train_gen, validation_data=val_gen,\n",
    "                    epochs=10, class_weight=class_weights, callbacks=callbacks)\n"
   ]
  },
  {
   "cell_type": "markdown",
   "id": "21b73901",
   "metadata": {},
   "source": [
    "## 8. Fine-Tune Last 20 Layers"
   ]
  },
  {
   "cell_type": "code",
   "execution_count": 7,
   "id": "53ecc532",
   "metadata": {},
   "outputs": [
    {
     "name": "stdout",
     "output_type": "stream",
     "text": [
      "Epoch 1/5\n",
      "\u001b[1m63/63\u001b[0m \u001b[32m━━━━━━━━━━━━━━━━━━━━\u001b[0m\u001b[37m\u001b[0m \u001b[1m56s\u001b[0m 786ms/step - accuracy: 0.8922 - loss: 0.2931 - val_accuracy: 0.9306 - val_loss: 0.2329 - learning_rate: 1.0000e-05\n",
      "Epoch 2/5\n",
      "\u001b[1m63/63\u001b[0m \u001b[32m━━━━━━━━━━━━━━━━━━━━\u001b[0m\u001b[37m\u001b[0m \u001b[1m48s\u001b[0m 765ms/step - accuracy: 0.9569 - loss: 0.1166 - val_accuracy: 0.9087 - val_loss: 0.3698 - learning_rate: 1.0000e-05\n",
      "Epoch 3/5\n",
      "\u001b[1m63/63\u001b[0m \u001b[32m━━━━━━━━━━━━━━━━━━━━\u001b[0m\u001b[37m\u001b[0m \u001b[1m48s\u001b[0m 763ms/step - accuracy: 0.9660 - loss: 0.0855 - val_accuracy: 0.9325 - val_loss: 0.3167 - learning_rate: 5.0000e-06\n"
     ]
    }
   ],
   "source": [
    "\n",
    "base_model.trainable = True\n",
    "for layer in base_model.layers[:-20]:\n",
    "    layer.trainable = False\n",
    "\n",
    "model.compile(optimizer=tf.keras.optimizers.Adam(learning_rate=1e-5),\n",
    "              loss='categorical_crossentropy', metrics=['accuracy'])\n",
    "\n",
    "fine_tune_history = model.fit(train_gen, validation_data=val_gen,\n",
    "                              epochs=5, class_weight=class_weights, callbacks=callbacks)\n"
   ]
  },
  {
   "cell_type": "markdown",
   "id": "6010d315",
   "metadata": {},
   "source": [
    "## 9. Plot Training & Validation Performance"
   ]
  },
  {
   "cell_type": "code",
   "execution_count": 8,
   "id": "c3f68305",
   "metadata": {},
   "outputs": [
    {
     "data": {
      "image/png": "[encoded data removed]",
      "text/plain": [
       "<Figure size 1200x500 with 2 Axes>"
      ]
     },
     "metadata": {},
     "output_type": "display_data"
    }
   ],
   "source": [
    "\n",
    "def smooth_curve(points, factor=0.8):\n",
    "    smoothed = []\n",
    "    for point in points:\n",
    "        if smoothed:\n",
    "            smoothed.append(smoothed[-1] * factor + point * (1 - factor))\n",
    "        else:\n",
    "            smoothed.append(point)\n",
    "    return smoothed\n",
    "\n",
    "def combine_history(h1, h2):\n",
    "    combined = {}\n",
    "    for k in h1.history:\n",
    "        combined[k] = h1.history[k] + h2.history.get(k, [])\n",
    "    return combined\n",
    "\n",
    "full_history = combine_history(history, fine_tune_history)\n",
    "\n",
    "plt.figure(figsize=(12, 5))\n",
    "plt.subplot(1, 2, 1)\n",
    "plt.plot(smooth_curve(full_history['accuracy']), label='Training Acc')\n",
    "plt.plot(smooth_curve(full_history['val_accuracy']), label='Val Acc')\n",
    "plt.legend()\n",
    "plt.title('Accuracy')\n",
    "\n",
    "plt.subplot(1, 2, 2)\n",
    "plt.plot(smooth_curve(full_history['loss']), label='Training Loss')\n",
    "plt.plot(smooth_curve(full_history['val_loss']), label='Val Loss')\n",
    "plt.legend()\n",
    "plt.title('Loss')\n",
    "plt.tight_layout()\n",
    "plt.show()\n"
   ]
  },
  {
   "cell_type": "markdown",
   "id": "b2878cf5",
   "metadata": {},
   "source": [
    "## 10. Export Model"
   ]
  },
  {
   "cell_type": "code",
   "execution_count": 9,
   "id": "10f0b8ef",
   "metadata": {},
   "outputs": [
    {
     "name": "stderr",
     "output_type": "stream",
     "text": [
      "WARNING:absl:You are saving your model as an HDF5 file via `model.save()` or `keras.saving.save_model(model)`. This file format is considered legacy. We recommend using instead the native Keras format, e.g. `model.save('my_model.keras')` or `keras.saving.save_model(model, 'my_model.keras')`. \n"
     ]
    },
    {
     "name": "stdout",
     "output_type": "stream",
     "text": [
      "INFO:tensorflow:Assets written to: C:\\Users\\SHAILS~1\\AppData\\Local\\Temp\\tmp540wrk1s\\assets\n"
     ]
    },
    {
     "name": "stderr",
     "output_type": "stream",
     "text": [
      "INFO:tensorflow:Assets written to: C:\\Users\\SHAILS~1\\AppData\\Local\\Temp\\tmp540wrk1s\\assets\n"
     ]
    },
    {
     "name": "stdout",
     "output_type": "stream",
     "text": [
      "Saved artifact at 'C:\\Users\\SHAILS~1\\AppData\\Local\\Temp\\tmp540wrk1s'. The following endpoints are available:\n",
      "\n",
      "* Endpoint 'serve'\n",
      "  args_0 (POSITIONAL_ONLY): TensorSpec(shape=(None, 224, 224, 3), dtype=tf.float32, name='keras_tensor')\n",
      "Output Type:\n",
      "  TensorSpec(shape=(None, 3), dtype=tf.float32, name=None)\n",
      "Captures:\n",
      "  3070088939088: TensorSpec(shape=(), dtype=tf.resource, name=None)\n",
      "  3070088939664: TensorSpec(shape=(), dtype=tf.resource, name=None)\n",
      "  3070088941392: TensorSpec(shape=(), dtype=tf.resource, name=None)\n",
      "  3070088941008: TensorSpec(shape=(), dtype=tf.resource, name=None)\n",
      "  3070088939856: TensorSpec(shape=(), dtype=tf.resource, name=None)\n",
      "  3070088941584: TensorSpec(shape=(), dtype=tf.resource, name=None)\n",
      "  3070088940624: TensorSpec(shape=(), dtype=tf.resource, name=None)\n",
      "  3070088939280: TensorSpec(shape=(), dtype=tf.resource, name=None)\n",
      "  3070088941776: TensorSpec(shape=(), dtype=tf.resource, name=None)\n",
      "  3070088938896: TensorSpec(shape=(), dtype=tf.resource, name=None)\n",
      "  3070088942160: TensorSpec(shape=(), dtype=tf.resource, name=None)\n",
      "  3070088943696: TensorSpec(shape=(), dtype=tf.resource, name=None)\n",
      "  3070088940432: TensorSpec(shape=(), dtype=tf.resource, name=None)\n",
      "  3070088940240: TensorSpec(shape=(), dtype=tf.resource, name=None)\n",
      "  3070088942736: TensorSpec(shape=(), dtype=tf.resource, name=None)\n",
      "  3070088945616: TensorSpec(shape=(), dtype=tf.resource, name=None)\n",
      "  3070088947536: TensorSpec(shape=(), dtype=tf.resource, name=None)\n",
      "  3070088946192: TensorSpec(shape=(), dtype=tf.resource, name=None)\n",
      "  3070088946576: TensorSpec(shape=(), dtype=tf.resource, name=None)\n",
      "  3070088945424: TensorSpec(shape=(), dtype=tf.resource, name=None)\n",
      "  3070088949072: TensorSpec(shape=(), dtype=tf.resource, name=None)\n",
      "  3070088948688: TensorSpec(shape=(), dtype=tf.resource, name=None)\n",
      "  3070088948304: TensorSpec(shape=(), dtype=tf.resource, name=None)\n",
      "  3070088949264: TensorSpec(shape=(), dtype=tf.resource, name=None)\n",
      "  3070088947920: TensorSpec(shape=(), dtype=tf.resource, name=None)\n",
      "  3070088951376: TensorSpec(shape=(), dtype=tf.resource, name=None)\n",
      "  3070088951760: TensorSpec(shape=(), dtype=tf.resource, name=None)\n",
      "  3070088952144: TensorSpec(shape=(), dtype=tf.resource, name=None)\n",
      "  3070088951952: TensorSpec(shape=(), dtype=tf.resource, name=None)\n",
      "  3070088946768: TensorSpec(shape=(), dtype=tf.resource, name=None)\n",
      "  3070088953296: TensorSpec(shape=(), dtype=tf.resource, name=None)\n",
      "  3070088949456: TensorSpec(shape=(), dtype=tf.resource, name=None)\n",
      "  3070088953680: TensorSpec(shape=(), dtype=tf.resource, name=None)\n",
      "  3070088953488: TensorSpec(shape=(), dtype=tf.resource, name=None)\n",
      "  3070088950992: TensorSpec(shape=(), dtype=tf.resource, name=None)\n",
      "  3070087135696: TensorSpec(shape=(), dtype=tf.resource, name=None)\n",
      "  3070087137040: TensorSpec(shape=(), dtype=tf.resource, name=None)\n",
      "  3070087137424: TensorSpec(shape=(), dtype=tf.resource, name=None)\n",
      "  3070087137232: TensorSpec(shape=(), dtype=tf.resource, name=None)\n",
      "  3070087135888: TensorSpec(shape=(), dtype=tf.resource, name=None)\n",
      "  3070087136464: TensorSpec(shape=(), dtype=tf.resource, name=None)\n",
      "  3070087139152: TensorSpec(shape=(), dtype=tf.resource, name=None)\n",
      "  3070087139536: TensorSpec(shape=(), dtype=tf.resource, name=None)\n",
      "  3070087139344: TensorSpec(shape=(), dtype=tf.resource, name=None)\n",
      "  3070087135504: TensorSpec(shape=(), dtype=tf.resource, name=None)\n",
      "  3070087138192: TensorSpec(shape=(), dtype=tf.resource, name=None)\n",
      "  3070087141264: TensorSpec(shape=(), dtype=tf.resource, name=None)\n",
      "  3070087141648: TensorSpec(shape=(), dtype=tf.resource, name=None)\n",
      "  3070087141456: TensorSpec(shape=(), dtype=tf.resource, name=None)\n",
      "  3070087138576: TensorSpec(shape=(), dtype=tf.resource, name=None)\n",
      "  3070087142800: TensorSpec(shape=(), dtype=tf.resource, name=None)\n",
      "  3070087143184: TensorSpec(shape=(), dtype=tf.resource, name=None)\n",
      "  3070087143568: TensorSpec(shape=(), dtype=tf.resource, name=None)\n",
      "  3070087143376: TensorSpec(shape=(), dtype=tf.resource, name=None)\n",
      "  3070087140304: TensorSpec(shape=(), dtype=tf.resource, name=None)\n",
      "  3070087144720: TensorSpec(shape=(), dtype=tf.resource, name=None)\n",
      "  3070087145104: TensorSpec(shape=(), dtype=tf.resource, name=None)\n",
      "  3070087145488: TensorSpec(shape=(), dtype=tf.resource, name=None)\n",
      "  3070087145296: TensorSpec(shape=(), dtype=tf.resource, name=None)\n",
      "  3070087140880: TensorSpec(shape=(), dtype=tf.resource, name=None)\n",
      "  3070087146640: TensorSpec(shape=(), dtype=tf.resource, name=None)\n",
      "  3070087147024: TensorSpec(shape=(), dtype=tf.resource, name=None)\n",
      "  3070087147408: TensorSpec(shape=(), dtype=tf.resource, name=None)\n",
      "  3070087147216: TensorSpec(shape=(), dtype=tf.resource, name=None)\n",
      "  3070087142416: TensorSpec(shape=(), dtype=tf.resource, name=None)\n",
      "  3070087148560: TensorSpec(shape=(), dtype=tf.resource, name=None)\n",
      "  3070087148944: TensorSpec(shape=(), dtype=tf.resource, name=None)\n",
      "  3070087149328: TensorSpec(shape=(), dtype=tf.resource, name=None)\n",
      "  3070087149136: TensorSpec(shape=(), dtype=tf.resource, name=None)\n",
      "  3070087144336: TensorSpec(shape=(), dtype=tf.resource, name=None)\n",
      "  3070087150480: TensorSpec(shape=(), dtype=tf.resource, name=None)\n",
      "  3070087150096: TensorSpec(shape=(), dtype=tf.resource, name=None)\n",
      "  3070087148176: TensorSpec(shape=(), dtype=tf.resource, name=None)\n",
      "  3070087151056: TensorSpec(shape=(), dtype=tf.resource, name=None)\n",
      "  3070087146256: TensorSpec(shape=(), dtype=tf.resource, name=None)\n",
      "  3070087149712: TensorSpec(shape=(), dtype=tf.resource, name=None)\n",
      "  3070087562448: TensorSpec(shape=(), dtype=tf.resource, name=None)\n",
      "  3070087561296: TensorSpec(shape=(), dtype=tf.resource, name=None)\n",
      "  3070087562640: TensorSpec(shape=(), dtype=tf.resource, name=None)\n",
      "  3070087561488: TensorSpec(shape=(), dtype=tf.resource, name=None)\n",
      "  3070087563984: TensorSpec(shape=(), dtype=tf.resource, name=None)\n",
      "  3070087564368: TensorSpec(shape=(), dtype=tf.resource, name=None)\n",
      "  3070087564752: TensorSpec(shape=(), dtype=tf.resource, name=None)\n",
      "  3070087564560: TensorSpec(shape=(), dtype=tf.resource, name=None)\n",
      "  3070087562832: TensorSpec(shape=(), dtype=tf.resource, name=None)\n",
      "  3070087565904: TensorSpec(shape=(), dtype=tf.resource, name=None)\n",
      "  3070087566288: TensorSpec(shape=(), dtype=tf.resource, name=None)\n",
      "  3070087566672: TensorSpec(shape=(), dtype=tf.resource, name=None)\n",
      "  3070087566480: TensorSpec(shape=(), dtype=tf.resource, name=None)\n",
      "  3070087562064: TensorSpec(shape=(), dtype=tf.resource, name=None)\n",
      "  3070087567824: TensorSpec(shape=(), dtype=tf.resource, name=None)\n",
      "  3070087568208: TensorSpec(shape=(), dtype=tf.resource, name=None)\n",
      "  3070087568592: TensorSpec(shape=(), dtype=tf.resource, name=None)\n",
      "  3070087568400: TensorSpec(shape=(), dtype=tf.resource, name=None)\n",
      "  3070087563600: TensorSpec(shape=(), dtype=tf.resource, name=None)\n",
      "  3070087569744: TensorSpec(shape=(), dtype=tf.resource, name=None)\n",
      "  3070087570128: TensorSpec(shape=(), dtype=tf.resource, name=None)\n",
      "  3070087570512: TensorSpec(shape=(), dtype=tf.resource, name=None)\n",
      "  3070087570320: TensorSpec(shape=(), dtype=tf.resource, name=None)\n",
      "  3070087565520: TensorSpec(shape=(), dtype=tf.resource, name=None)\n",
      "  3070087571664: TensorSpec(shape=(), dtype=tf.resource, name=None)\n",
      "  3070087572048: TensorSpec(shape=(), dtype=tf.resource, name=None)\n",
      "  3070087572432: TensorSpec(shape=(), dtype=tf.resource, name=None)\n",
      "  3070087572240: TensorSpec(shape=(), dtype=tf.resource, name=None)\n",
      "  3070087567440: TensorSpec(shape=(), dtype=tf.resource, name=None)\n",
      "  3070087573584: TensorSpec(shape=(), dtype=tf.resource, name=None)\n",
      "  3070087573968: TensorSpec(shape=(), dtype=tf.resource, name=None)\n",
      "  3070087574352: TensorSpec(shape=(), dtype=tf.resource, name=None)\n",
      "  3070087574160: TensorSpec(shape=(), dtype=tf.resource, name=None)\n",
      "  3070087569360: TensorSpec(shape=(), dtype=tf.resource, name=None)\n",
      "  3070087575504: TensorSpec(shape=(), dtype=tf.resource, name=None)\n",
      "  3070087575888: TensorSpec(shape=(), dtype=tf.resource, name=None)\n",
      "  3070087576272: TensorSpec(shape=(), dtype=tf.resource, name=None)\n",
      "  3070087576080: TensorSpec(shape=(), dtype=tf.resource, name=None)\n",
      "  3070087571280: TensorSpec(shape=(), dtype=tf.resource, name=None)\n",
      "  3070087577424: TensorSpec(shape=(), dtype=tf.resource, name=None)\n",
      "  3070087573200: TensorSpec(shape=(), dtype=tf.resource, name=None)\n",
      "  3070087922896: TensorSpec(shape=(), dtype=tf.resource, name=None)\n",
      "  3070087577040: TensorSpec(shape=(), dtype=tf.resource, name=None)\n",
      "  3070087575120: TensorSpec(shape=(), dtype=tf.resource, name=None)\n",
      "  3070087923472: TensorSpec(shape=(), dtype=tf.resource, name=None)\n",
      "  3070087923856: TensorSpec(shape=(), dtype=tf.resource, name=None)\n",
      "  3070087924240: TensorSpec(shape=(), dtype=tf.resource, name=None)\n",
      "  3070087924048: TensorSpec(shape=(), dtype=tf.resource, name=None)\n",
      "  3070087922704: TensorSpec(shape=(), dtype=tf.resource, name=None)\n",
      "  3070087925392: TensorSpec(shape=(), dtype=tf.resource, name=None)\n",
      "  3070087925776: TensorSpec(shape=(), dtype=tf.resource, name=None)\n",
      "  3070087926160: TensorSpec(shape=(), dtype=tf.resource, name=None)\n",
      "  3070087925968: TensorSpec(shape=(), dtype=tf.resource, name=None)\n",
      "  3070087921936: TensorSpec(shape=(), dtype=tf.resource, name=None)\n",
      "  3070087927312: TensorSpec(shape=(), dtype=tf.resource, name=None)\n",
      "  3070087927696: TensorSpec(shape=(), dtype=tf.resource, name=None)\n",
      "  3070087928080: TensorSpec(shape=(), dtype=tf.resource, name=None)\n",
      "  3070087927888: TensorSpec(shape=(), dtype=tf.resource, name=None)\n",
      "  3070087922128: TensorSpec(shape=(), dtype=tf.resource, name=None)\n",
      "  3070087929232: TensorSpec(shape=(), dtype=tf.resource, name=None)\n",
      "  3070087929616: TensorSpec(shape=(), dtype=tf.resource, name=None)\n",
      "  3070087930000: TensorSpec(shape=(), dtype=tf.resource, name=None)\n",
      "  3070087929808: TensorSpec(shape=(), dtype=tf.resource, name=None)\n",
      "  3070087925008: TensorSpec(shape=(), dtype=tf.resource, name=None)\n",
      "  3070087931152: TensorSpec(shape=(), dtype=tf.resource, name=None)\n",
      "  3070087931536: TensorSpec(shape=(), dtype=tf.resource, name=None)\n",
      "  3070087931920: TensorSpec(shape=(), dtype=tf.resource, name=None)\n",
      "  3070087931728: TensorSpec(shape=(), dtype=tf.resource, name=None)\n",
      "  3070087926928: TensorSpec(shape=(), dtype=tf.resource, name=None)\n",
      "  3070087933072: TensorSpec(shape=(), dtype=tf.resource, name=None)\n",
      "  3070087933456: TensorSpec(shape=(), dtype=tf.resource, name=None)\n",
      "  3070087933840: TensorSpec(shape=(), dtype=tf.resource, name=None)\n",
      "  3070087933648: TensorSpec(shape=(), dtype=tf.resource, name=None)\n",
      "  3070087928848: TensorSpec(shape=(), dtype=tf.resource, name=None)\n",
      "  3070087934992: TensorSpec(shape=(), dtype=tf.resource, name=None)\n",
      "  3070087935376: TensorSpec(shape=(), dtype=tf.resource, name=None)\n",
      "  3070087935760: TensorSpec(shape=(), dtype=tf.resource, name=None)\n",
      "  3070087935568: TensorSpec(shape=(), dtype=tf.resource, name=None)\n",
      "  3070087930768: TensorSpec(shape=(), dtype=tf.resource, name=None)\n",
      "  3070087936912: TensorSpec(shape=(), dtype=tf.resource, name=None)\n",
      "  3070087936528: TensorSpec(shape=(), dtype=tf.resource, name=None)\n",
      "  3070087934608: TensorSpec(shape=(), dtype=tf.resource, name=None)\n",
      "  3070087937488: TensorSpec(shape=(), dtype=tf.resource, name=None)\n",
      "  3070087932688: TensorSpec(shape=(), dtype=tf.resource, name=None)\n",
      "  3070087936144: TensorSpec(shape=(), dtype=tf.resource, name=None)\n",
      "  3070092903632: TensorSpec(shape=(), dtype=tf.resource, name=None)\n",
      "  3070092902672: TensorSpec(shape=(), dtype=tf.resource, name=None)\n",
      "  3070092903440: TensorSpec(shape=(), dtype=tf.resource, name=None)\n",
      "  3070092902480: TensorSpec(shape=(), dtype=tf.resource, name=None)\n",
      "  3070092905168: TensorSpec(shape=(), dtype=tf.resource, name=None)\n",
      "  3070092905552: TensorSpec(shape=(), dtype=tf.resource, name=None)\n",
      "  3070092905936: TensorSpec(shape=(), dtype=tf.resource, name=None)\n",
      "  3070092905744: TensorSpec(shape=(), dtype=tf.resource, name=None)\n",
      "  3070092902864: TensorSpec(shape=(), dtype=tf.resource, name=None)\n",
      "  3070092907088: TensorSpec(shape=(), dtype=tf.resource, name=None)\n",
      "  3070092907472: TensorSpec(shape=(), dtype=tf.resource, name=None)\n",
      "  3070092907856: TensorSpec(shape=(), dtype=tf.resource, name=None)\n",
      "  3070092907664: TensorSpec(shape=(), dtype=tf.resource, name=None)\n",
      "  3070092904016: TensorSpec(shape=(), dtype=tf.resource, name=None)\n",
      "  3070092909008: TensorSpec(shape=(), dtype=tf.resource, name=None)\n",
      "  3070092909392: TensorSpec(shape=(), dtype=tf.resource, name=None)\n",
      "  3070092909776: TensorSpec(shape=(), dtype=tf.resource, name=None)\n",
      "  3070092909584: TensorSpec(shape=(), dtype=tf.resource, name=None)\n",
      "  3070092904784: TensorSpec(shape=(), dtype=tf.resource, name=None)\n",
      "  3070092910928: TensorSpec(shape=(), dtype=tf.resource, name=None)\n",
      "  3070092911312: TensorSpec(shape=(), dtype=tf.resource, name=None)\n",
      "  3070092911696: TensorSpec(shape=(), dtype=tf.resource, name=None)\n",
      "  3070092911504: TensorSpec(shape=(), dtype=tf.resource, name=None)\n",
      "  3070092906704: TensorSpec(shape=(), dtype=tf.resource, name=None)\n",
      "  3070092912848: TensorSpec(shape=(), dtype=tf.resource, name=None)\n",
      "  3070092913232: TensorSpec(shape=(), dtype=tf.resource, name=None)\n",
      "  3070092913616: TensorSpec(shape=(), dtype=tf.resource, name=None)\n",
      "  3070092913424: TensorSpec(shape=(), dtype=tf.resource, name=None)\n",
      "  3070092908624: TensorSpec(shape=(), dtype=tf.resource, name=None)\n",
      "  3070092914768: TensorSpec(shape=(), dtype=tf.resource, name=None)\n",
      "  3070092915152: TensorSpec(shape=(), dtype=tf.resource, name=None)\n",
      "  3070092915536: TensorSpec(shape=(), dtype=tf.resource, name=None)\n",
      "  3070092915344: TensorSpec(shape=(), dtype=tf.resource, name=None)\n",
      "  3070092910544: TensorSpec(shape=(), dtype=tf.resource, name=None)\n",
      "  3070092916688: TensorSpec(shape=(), dtype=tf.resource, name=None)\n",
      "  3070092917072: TensorSpec(shape=(), dtype=tf.resource, name=None)\n",
      "  3070092917456: TensorSpec(shape=(), dtype=tf.resource, name=None)\n",
      "  3070092917264: TensorSpec(shape=(), dtype=tf.resource, name=None)\n",
      "  3070092912464: TensorSpec(shape=(), dtype=tf.resource, name=None)\n",
      "  3070092918608: TensorSpec(shape=(), dtype=tf.resource, name=None)\n",
      "  3070092914384: TensorSpec(shape=(), dtype=tf.resource, name=None)\n",
      "  3070093247696: TensorSpec(shape=(), dtype=tf.resource, name=None)\n",
      "  3070092918224: TensorSpec(shape=(), dtype=tf.resource, name=None)\n",
      "  3070092916304: TensorSpec(shape=(), dtype=tf.resource, name=None)\n",
      "  3070093248272: TensorSpec(shape=(), dtype=tf.resource, name=None)\n",
      "  3070093248656: TensorSpec(shape=(), dtype=tf.resource, name=None)\n",
      "  3070093249040: TensorSpec(shape=(), dtype=tf.resource, name=None)\n",
      "  3070093248848: TensorSpec(shape=(), dtype=tf.resource, name=None)\n",
      "  3070093247504: TensorSpec(shape=(), dtype=tf.resource, name=None)\n",
      "  3070093250192: TensorSpec(shape=(), dtype=tf.resource, name=None)\n",
      "  3070093250576: TensorSpec(shape=(), dtype=tf.resource, name=None)\n",
      "  3070093250960: TensorSpec(shape=(), dtype=tf.resource, name=None)\n",
      "  3070093250768: TensorSpec(shape=(), dtype=tf.resource, name=None)\n",
      "  3070093246736: TensorSpec(shape=(), dtype=tf.resource, name=None)\n",
      "  3070093252112: TensorSpec(shape=(), dtype=tf.resource, name=None)\n",
      "  3070093252496: TensorSpec(shape=(), dtype=tf.resource, name=None)\n",
      "  3070093252880: TensorSpec(shape=(), dtype=tf.resource, name=None)\n",
      "  3070093252688: TensorSpec(shape=(), dtype=tf.resource, name=None)\n",
      "  3070093246928: TensorSpec(shape=(), dtype=tf.resource, name=None)\n",
      "  3070093254032: TensorSpec(shape=(), dtype=tf.resource, name=None)\n",
      "  3070093254416: TensorSpec(shape=(), dtype=tf.resource, name=None)\n",
      "  3070093254800: TensorSpec(shape=(), dtype=tf.resource, name=None)\n",
      "  3070093254608: TensorSpec(shape=(), dtype=tf.resource, name=None)\n",
      "  3070093249808: TensorSpec(shape=(), dtype=tf.resource, name=None)\n",
      "  3070093255952: TensorSpec(shape=(), dtype=tf.resource, name=None)\n",
      "  3070093256336: TensorSpec(shape=(), dtype=tf.resource, name=None)\n",
      "  3070093256720: TensorSpec(shape=(), dtype=tf.resource, name=None)\n",
      "  3070093256528: TensorSpec(shape=(), dtype=tf.resource, name=None)\n",
      "  3070093251728: TensorSpec(shape=(), dtype=tf.resource, name=None)\n",
      "  3070093257872: TensorSpec(shape=(), dtype=tf.resource, name=None)\n",
      "  3070093258256: TensorSpec(shape=(), dtype=tf.resource, name=None)\n",
      "  3070093258640: TensorSpec(shape=(), dtype=tf.resource, name=None)\n",
      "  3070093258448: TensorSpec(shape=(), dtype=tf.resource, name=None)\n",
      "  3070093253648: TensorSpec(shape=(), dtype=tf.resource, name=None)\n",
      "  3070093259792: TensorSpec(shape=(), dtype=tf.resource, name=None)\n",
      "  3070093260176: TensorSpec(shape=(), dtype=tf.resource, name=None)\n",
      "  3070093260560: TensorSpec(shape=(), dtype=tf.resource, name=None)\n",
      "  3070093260368: TensorSpec(shape=(), dtype=tf.resource, name=None)\n",
      "  3070093255568: TensorSpec(shape=(), dtype=tf.resource, name=None)\n",
      "  3070093261712: TensorSpec(shape=(), dtype=tf.resource, name=None)\n",
      "  3070093261328: TensorSpec(shape=(), dtype=tf.resource, name=None)\n",
      "  3070093259408: TensorSpec(shape=(), dtype=tf.resource, name=None)\n",
      "  3070093262288: TensorSpec(shape=(), dtype=tf.resource, name=None)\n",
      "  3070093257488: TensorSpec(shape=(), dtype=tf.resource, name=None)\n",
      "  3070093260944: TensorSpec(shape=(), dtype=tf.resource, name=None)\n",
      "  3070120887504: TensorSpec(shape=(), dtype=tf.resource, name=None)\n",
      "  3070120886544: TensorSpec(shape=(), dtype=tf.resource, name=None)\n",
      "  3070120887312: TensorSpec(shape=(), dtype=tf.resource, name=None)\n",
      "  3070120886352: TensorSpec(shape=(), dtype=tf.resource, name=None)\n",
      "  3070120889040: TensorSpec(shape=(), dtype=tf.resource, name=None)\n",
      "  3070120889424: TensorSpec(shape=(), dtype=tf.resource, name=None)\n",
      "  3070120889808: TensorSpec(shape=(), dtype=tf.resource, name=None)\n",
      "  3070120889616: TensorSpec(shape=(), dtype=tf.resource, name=None)\n",
      "  3070120886736: TensorSpec(shape=(), dtype=tf.resource, name=None)\n",
      "  3070120890960: TensorSpec(shape=(), dtype=tf.resource, name=None)\n",
      "  3070120891344: TensorSpec(shape=(), dtype=tf.resource, name=None)\n",
      "  3070120891728: TensorSpec(shape=(), dtype=tf.resource, name=None)\n",
      "  3070120891536: TensorSpec(shape=(), dtype=tf.resource, name=None)\n",
      "  3070120887888: TensorSpec(shape=(), dtype=tf.resource, name=None)\n",
      "  3070120888656: TensorSpec(shape=(), dtype=tf.resource, name=None)\n",
      "  3070120894032: TensorSpec(shape=(), dtype=tf.resource, name=None)\n",
      "  3070120893264: TensorSpec(shape=(), dtype=tf.resource, name=None)\n",
      "  3070120895184: TensorSpec(shape=(), dtype=tf.resource, name=None)\n",
      "  3070120894416: TensorSpec(shape=(), dtype=tf.resource, name=None)\n",
      "  3070120896336: TensorSpec(shape=(), dtype=tf.resource, name=None)\n"
     ]
    }
   ],
   "source": [
    "\n",
    "model.save(\"rock_paper_scissors_model.h5\")\n",
    "\n",
    "converter = tf.lite.TFLiteConverter.from_keras_model(model)\n",
    "tflite_model = converter.convert()\n",
    "with open(\"rock_paper_scissors_model.tflite\", \"wb\") as f:\n",
    "    f.write(tflite_model)\n"
   ]
  },
  {
   "cell_type": "code",
   "execution_count": null,
   "id": "345d4100",
   "metadata": {},
   "outputs": [],
   "source": []
  },
  {
   "cell_type": "code",
   "execution_count": null,
   "id": "3d2aa7f7",
   "metadata": {},
   "outputs": [],
   "source": []
  },
  {
   "cell_type": "code",
   "execution_count": null,
   "id": "5b40b4d5",
   "metadata": {},
   "outputs": [],
   "source": []
  }
 ],
 "metadata": {
  "kernelspec": {
   "display_name": "rock_paper_scissor_game_env",
   "language": "python",
   "name": "python3"
  },
  "language_info": {
   "codemirror_mode": {
    "name": "ipython",
    "version": 3
   },
   "file_extension": ".py",
   "mimetype": "text/x-python",
   "name": "python",
   "nbconvert_exporter": "python",
   "pygments_lexer": "ipython3",
   "version": "3.12.7"
  }
 },
 "nbformat": 4,
 "nbformat_minor": 5
}
