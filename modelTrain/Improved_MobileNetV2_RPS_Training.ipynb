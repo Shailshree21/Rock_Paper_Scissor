{
 "cells": [
  {
   "cell_type": "markdown",
   "id": "9390785d",
   "metadata": {},
   "source": [
    "# 🧠 Rock Paper Scissors Classification with MobileNetV2\n",
    "\n",
    "This notebook demonstrates training a transfer learning model using MobileNetV2 on the Rock-Paper-Scissors dataset from Hugging Face. It includes data preprocessing, augmentation, class balancing, and fine-tuning to avoid overfitting."
   ]
  },
  {
   "cell_type": "markdown",
   "id": "434ba7fb",
   "metadata": {},
   "source": [
    "## 1. Install and Import Libraries"
   ]
  },
  {
   "cell_type": "code",
   "execution_count": 1,
   "id": "215539d4",
   "metadata": {},
   "outputs": [
    {
     "name": "stderr",
     "output_type": "stream",
     "text": [
      "c:\\Users\\shailshree\\Desktop\\Academics\\3rd year\\computervision\\coursework\\app\\rock_paper_scissor_game_env\\Lib\\site-packages\\tqdm\\auto.py:21: TqdmWarning: IProgress not found. Please update jupyter and ipywidgets. See https://ipywidgets.readthedocs.io/en/stable/user_install.html\n",
      "  from .autonotebook import tqdm as notebook_tqdm\n"
     ]
    }
   ],
   "source": [
    "import os\n",
    "import numpy as np\n",
    "import matplotlib.pyplot as plt\n",
    "import tensorflow as tf\n",
    "from PIL import Image\n",
    "from datasets import load_dataset\n",
    "from sklearn.utils.class_weight import compute_class_weight\n",
    "from tensorflow.keras.applications import MobileNetV2\n",
    "from tensorflow.keras.models import Model\n",
    "from tensorflow.keras.layers import GlobalAveragePooling2D, Dense, Dropout\n",
    "from tensorflow.keras.preprocessing.image import ImageDataGenerator\n",
    "from tensorflow.keras.callbacks import EarlyStopping, ModelCheckpoint, ReduceLROnPlateau\n"
   ]
  },
  {
   "cell_type": "markdown",
   "id": "f41bd3b4",
   "metadata": {},
   "source": [
    "## 2. Extract Dataset from Hugging Face"
   ]
  },
  {
   "cell_type": "code",
   "execution_count": null,
   "id": "54593eda",
   "metadata": {},
   "outputs": [],
   "source": [
    "\n",
    "dataset = load_dataset(\"Javtor/rock-paper-scissors\")\n",
    "label_names = dataset['train'].features['label'].names\n",
    "\n",
    "base_dir = \"dataset\"\n",
    "splits = ['train', 'test']\n",
    "\n",
    "def save_images_to_folder(split_name):\n",
    "    split_dataset = dataset[split_name]\n",
    "    for idx, sample in enumerate(split_dataset):\n",
    "        label = label_names[sample['label']]\n",
    "        image = sample['image']\n",
    "        if image.mode == 'RGBA':\n",
    "            image = image.convert('RGB')\n",
    "        save_dir = os.path.join(base_dir, split_name, label)\n",
    "        os.makedirs(save_dir, exist_ok=True)\n",
    "        image_path = os.path.join(save_dir, f\"{split_name}_{label}_{idx}.jpg\")\n",
    "        image.save(image_path)\n",
    "\n",
    "for split in splits:\n",
    "    save_images_to_folder(split)\n",
    "\n",
    "print(\"✅ Dataset saved in dataset/train and dataset/test.\")\n"
   ]
  },
  {
   "cell_type": "markdown",
   "id": "cc8d4c78",
   "metadata": {},
   "source": [
    "## 3. Load Dataset with Augmentation"
   ]
  },
  {
   "cell_type": "code",
   "execution_count": 2,
   "id": "6c656268",
   "metadata": {},
   "outputs": [
    {
     "name": "stdout",
     "output_type": "stream",
     "text": [
      "Found 2016 images belonging to 3 classes.\n",
      "Found 504 images belonging to 3 classes.\n",
      "Found 372 images belonging to 3 classes.\n"
     ]
    }
   ],
   "source": [
    "\n",
    "train_dir = 'dataset/train'\n",
    "test_dir = 'dataset/test'\n",
    "\n",
    "train_datagen = ImageDataGenerator(\n",
    "    rescale=1./255,\n",
    "    rotation_range=30,\n",
    "    zoom_range=0.3,\n",
    "    horizontal_flip=True,\n",
    "    width_shift_range=0.2,\n",
    "    height_shift_range=0.2,\n",
    "    shear_range=0.2,\n",
    "    brightness_range=[0.7, 1.3],\n",
    "    validation_split=0.2\n",
    ")\n",
    "\n",
    "test_datagen = ImageDataGenerator(rescale=1./255)\n",
    "\n",
    "train_gen = train_datagen.flow_from_directory(\n",
    "    train_dir, target_size=(224, 224), batch_size=32,\n",
    "    class_mode='categorical', subset='training'\n",
    ")\n",
    "\n",
    "val_gen = train_datagen.flow_from_directory(\n",
    "    train_dir, target_size=(224, 224), batch_size=32,\n",
    "    class_mode='categorical', subset='validation'\n",
    ")\n",
    "\n",
    "test_gen = test_datagen.flow_from_directory(\n",
    "    test_dir, target_size=(224, 224), batch_size=32, class_mode='categorical'\n",
    ")\n"
   ]
  },
  {
   "cell_type": "markdown",
   "id": "37bba149",
   "metadata": {},
   "source": [
    "## 4. Compute Class Weights"
   ]
  },
  {
   "cell_type": "code",
   "execution_count": 3,
   "id": "f0d278c1",
   "metadata": {},
   "outputs": [],
   "source": [
    "\n",
    "y_train = train_gen.classes\n",
    "weights = compute_class_weight(class_weight='balanced', classes=np.unique(y_train), y=y_train)\n",
    "class_weights = dict(enumerate(weights))\n"
   ]
  },
  {
   "cell_type": "markdown",
   "id": "15fc18a1",
   "metadata": {},
   "source": [
    "## 5. Define Model Architecture (Transfer Learning with Dropout)"
   ]
  },
  {
   "cell_type": "code",
   "execution_count": 4,
   "id": "64afbb0d",
   "metadata": {},
   "outputs": [],
   "source": [
    "\n",
    "base_model = MobileNetV2(weights='imagenet', include_top=False, input_shape=(224, 224, 3))\n",
    "base_model.trainable = False\n",
    "\n",
    "x = base_model.output\n",
    "x = GlobalAveragePooling2D()(x)\n",
    "x = Dense(256, activation='relu')(x)\n",
    "x = Dropout(0.5)(x)\n",
    "x = Dense(128, activation='relu')(x)\n",
    "x = Dropout(0.3)(x)\n",
    "output = Dense(train_gen.num_classes, activation='softmax')(x)\n",
    "\n",
    "model = Model(inputs=base_model.input, outputs=output)\n"
   ]
  },
  {
   "cell_type": "markdown",
   "id": "b7c89478",
   "metadata": {},
   "source": [
    "## 6. Train Top Layers"
   ]
  },
  {
   "cell_type": "code",
   "execution_count": 5,
   "id": "0eb6e754",
   "metadata": {},
   "outputs": [
    {
     "name": "stderr",
     "output_type": "stream",
     "text": [
      "c:\\Users\\shailshree\\Desktop\\Academics\\3rd year\\computervision\\coursework\\app\\rock_paper_scissor_game_env\\Lib\\site-packages\\keras\\src\\trainers\\data_adapters\\py_dataset_adapter.py:121: UserWarning: Your `PyDataset` class should call `super().__init__(**kwargs)` in its constructor. `**kwargs` can include `workers`, `use_multiprocessing`, `max_queue_size`. Do not pass these arguments to `fit()`, as they will be ignored.\n",
      "  self._warn_if_super_not_called()\n"
     ]
    },
    {
     "name": "stdout",
     "output_type": "stream",
     "text": [
      "Epoch 1/10\n",
      "\u001b[1m63/63\u001b[0m \u001b[32m━━━━━━━━━━━━━━━━━━━━\u001b[0m\u001b[37m\u001b[0m \u001b[1m0s\u001b[0m 988ms/step - accuracy: 0.6635 - loss: 0.7519"
     ]
    },
    {
     "name": "stderr",
     "output_type": "stream",
     "text": [
      "WARNING:absl:You are saving your model as an HDF5 file via `model.save()` or `keras.saving.save_model(model)`. This file format is considered legacy. We recommend using instead the native Keras format, e.g. `model.save('my_model.keras')` or `keras.saving.save_model(model, 'my_model.keras')`. \n"
     ]
    },
    {
     "name": "stdout",
     "output_type": "stream",
     "text": [
      "\u001b[1m63/63\u001b[0m \u001b[32m━━━━━━━━━━━━━━━━━━━━\u001b[0m\u001b[37m\u001b[0m \u001b[1m85s\u001b[0m 1s/step - accuracy: 0.6658 - loss: 0.7472 - val_accuracy: 0.9385 - val_loss: 0.1571 - learning_rate: 0.0010\n",
      "Epoch 2/10\n",
      "\u001b[1m63/63\u001b[0m \u001b[32m━━━━━━━━━━━━━━━━━━━━\u001b[0m\u001b[37m\u001b[0m \u001b[1m53s\u001b[0m 841ms/step - accuracy: 0.9576 - loss: 0.1264 - val_accuracy: 0.9008 - val_loss: 0.3089 - learning_rate: 0.0010\n",
      "Epoch 3/10\n",
      "\u001b[1m63/63\u001b[0m \u001b[32m━━━━━━━━━━━━━━━━━━━━\u001b[0m\u001b[37m\u001b[0m \u001b[1m0s\u001b[0m 752ms/step - accuracy: 0.9592 - loss: 0.1044"
     ]
    },
    {
     "name": "stderr",
     "output_type": "stream",
     "text": [
      "WARNING:absl:You are saving your model as an HDF5 file via `model.save()` or `keras.saving.save_model(model)`. This file format is considered legacy. We recommend using instead the native Keras format, e.g. `model.save('my_model.keras')` or `keras.saving.save_model(model, 'my_model.keras')`. \n"
     ]
    },
    {
     "name": "stdout",
     "output_type": "stream",
     "text": [
      "\u001b[1m63/63\u001b[0m \u001b[32m━━━━━━━━━━━━━━━━━━━━\u001b[0m\u001b[37m\u001b[0m \u001b[1m60s\u001b[0m 948ms/step - accuracy: 0.9594 - loss: 0.1040 - val_accuracy: 0.9504 - val_loss: 0.1592 - learning_rate: 5.0000e-04\n"
     ]
    }
   ],
   "source": [
    "\n",
    "callbacks = [\n",
    "    EarlyStopping(monitor='val_loss', patience=2, restore_best_weights=True),\n",
    "    ModelCheckpoint('best_model.h5', monitor='val_accuracy', save_best_only=True),\n",
    "    ReduceLROnPlateau(monitor='val_loss', factor=0.5, patience=1, min_lr=1e-6)\n",
    "]\n",
    "\n",
    "model.compile(optimizer=tf.keras.optimizers.Adam(learning_rate=1e-3),\n",
    "              loss='categorical_crossentropy',\n",
    "              metrics=['accuracy'])\n",
    "\n",
    "history = model.fit(\n",
    "    train_gen,\n",
    "    validation_data=val_gen,\n",
    "    epochs=10,\n",
    "    class_weight=class_weights,\n",
    "    callbacks=callbacks\n",
    ")\n"
   ]
  },
  {
   "cell_type": "markdown",
   "id": "234b18e3",
   "metadata": {},
   "source": [
    "## 7. Fine-Tune Last 20 Layers"
   ]
  },
  {
   "cell_type": "code",
   "execution_count": 6,
   "id": "ef4c85ab",
   "metadata": {},
   "outputs": [
    {
     "name": "stdout",
     "output_type": "stream",
     "text": [
      "Epoch 1/5\n",
      "\u001b[1m63/63\u001b[0m \u001b[32m━━━━━━━━━━━━━━━━━━━━\u001b[0m\u001b[37m\u001b[0m \u001b[1m62s\u001b[0m 870ms/step - accuracy: 0.8662 - loss: 0.3335 - val_accuracy: 0.9286 - val_loss: 0.2318 - learning_rate: 1.0000e-05\n",
      "Epoch 2/5\n",
      "\u001b[1m63/63\u001b[0m \u001b[32m━━━━━━━━━━━━━━━━━━━━\u001b[0m\u001b[37m\u001b[0m \u001b[1m51s\u001b[0m 809ms/step - accuracy: 0.9508 - loss: 0.1476 - val_accuracy: 0.9067 - val_loss: 0.2697 - learning_rate: 1.0000e-05\n",
      "Epoch 3/5\n",
      "\u001b[1m63/63\u001b[0m \u001b[32m━━━━━━━━━━━━━━━━━━━━\u001b[0m\u001b[37m\u001b[0m \u001b[1m51s\u001b[0m 816ms/step - accuracy: 0.9527 - loss: 0.1358 - val_accuracy: 0.9246 - val_loss: 0.2337 - learning_rate: 5.0000e-06\n"
     ]
    }
   ],
   "source": [
    "\n",
    "base_model.trainable = True\n",
    "for layer in base_model.layers[:-20]:\n",
    "    layer.trainable = False\n",
    "\n",
    "model.compile(optimizer=tf.keras.optimizers.Adam(learning_rate=1e-5),\n",
    "              loss='categorical_crossentropy',\n",
    "              metrics=['accuracy'])\n",
    "\n",
    "fine_tune_history = model.fit(\n",
    "    train_gen,\n",
    "    validation_data=val_gen,\n",
    "    epochs=5,\n",
    "    class_weight=class_weights,\n",
    "    callbacks=callbacks\n",
    ")\n"
   ]
  },
  {
   "cell_type": "markdown",
   "id": "2c0b15cc",
   "metadata": {},
   "source": [
    "## 8. Plot Accuracy and Loss (Smoothed)"
   ]
  },
  {
   "cell_type": "code",
   "execution_count": 7,
   "id": "e4f88cb2",
   "metadata": {},
   "outputs": [
    {
     "data": {
      "image/png": "[encoded data removed]",
      "text/plain": [
       "<Figure size 1200x500 with 2 Axes>"
      ]
     },
     "metadata": {},
     "output_type": "display_data"
    }
   ],
   "source": [
    "\n",
    "def smooth_curve(points, factor=0.8):\n",
    "    smoothed = []\n",
    "    for point in points:\n",
    "        if smoothed:\n",
    "            smoothed.append(smoothed[-1] * factor + point * (1 - factor))\n",
    "        else:\n",
    "            smoothed.append(point)\n",
    "    return smoothed\n",
    "\n",
    "def combine_history(h1, h2):\n",
    "    combined = {}\n",
    "    for k in h1.history:\n",
    "        combined[k] = h1.history[k] + h2.history.get(k, [])\n",
    "    return combined\n",
    "\n",
    "full_history = combine_history(history, fine_tune_history)\n",
    "\n",
    "smooth_acc = smooth_curve(full_history['accuracy'])\n",
    "smooth_val_acc = smooth_curve(full_history['val_accuracy'])\n",
    "smooth_loss = smooth_curve(full_history['loss'])\n",
    "smooth_val_loss = smooth_curve(full_history['val_loss'])\n",
    "\n",
    "plt.figure(figsize=(12, 5))\n",
    "plt.subplot(1, 2, 1)\n",
    "plt.plot(smooth_acc, label='Smoothed Training Accuracy')\n",
    "plt.plot(smooth_val_acc, label='Smoothed Validation Accuracy')\n",
    "plt.title('Model Accuracy')\n",
    "plt.xlabel('Epoch')\n",
    "plt.ylabel('Accuracy')\n",
    "plt.legend()\n",
    "\n",
    "plt.subplot(1, 2, 2)\n",
    "plt.plot(smooth_loss, label='Smoothed Training Loss')\n",
    "plt.plot(smooth_val_loss, label='Smoothed Validation Loss')\n",
    "plt.title('Model Loss')\n",
    "plt.xlabel('Epoch')\n",
    "plt.ylabel('Loss')\n",
    "plt.legend()\n",
    "\n",
    "plt.tight_layout()\n",
    "plt.show()\n"
   ]
  },
  {
   "cell_type": "code",
   "execution_count": null,
   "id": "a9c4af0b",
   "metadata": {},
   "outputs": [],
   "source": []
  }
 ],
 "metadata": {
  "kernelspec": {
   "display_name": "rock_paper_scissor_game_env",
   "language": "python",
   "name": "python3"
  },
  "language_info": {
   "codemirror_mode": {
    "name": "ipython",
    "version": 3
   },
   "file_extension": ".py",
   "mimetype": "text/x-python",
   "name": "python",
   "nbconvert_exporter": "python",
   "pygments_lexer": "ipython3",
   "version": "3.12.7"
  }
 },
 "nbformat": 4,
 "nbformat_minor": 5
}
